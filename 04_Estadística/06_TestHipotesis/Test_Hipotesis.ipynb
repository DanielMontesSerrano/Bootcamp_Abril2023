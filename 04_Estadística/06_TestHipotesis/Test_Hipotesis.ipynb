{
 "cells": [
  {
   "cell_type": "code",
   "execution_count": null,
   "metadata": {},
   "outputs": [],
   "source": [
    "### Ejemeplo de T-Test de una muestra\n",
    "### Ejemeplo de T-Test de dos muestra\n",
    "### Ejemeplo de T-Test pareado\n",
    "## ANova\n",
    "## Independencia de datos cualitativos"
   ]
  },
  {
   "cell_type": "code",
   "execution_count": null,
   "metadata": {},
   "outputs": [],
   "source": [
    "## Librerias\n",
    "import pandas as pd\n",
    "import numpy as np\n",
    "import scipy.stats as ss\n",
    "import matplotlib.pyplot as plt\n",
    "import math"
   ]
  },
  {
   "cell_type": "code",
   "execution_count": null,
   "metadata": {},
   "outputs": [],
   "source": [
    "np.random.seed(1234)"
   ]
  },
  {
   "cell_type": "code",
   "execution_count": null,
   "metadata": {},
   "outputs": [],
   "source": [
    "poblacion1=ss.poisson.rvs(loc=18,mu=35,size=450000)\n",
    "poblacion2=ss.poisson.rvs(loc=18,mu=15,size=150000)"
   ]
  },
  {
   "cell_type": "code",
   "execution_count": null,
   "metadata": {},
   "outputs": [],
   "source": [
    "Espanya=np.concatenate((poblacion1,poblacion2))"
   ]
  },
  {
   "cell_type": "code",
   "execution_count": null,
   "metadata": {},
   "outputs": [],
   "source": [
    "granada1=ss.poisson.rvs(loc=18,mu=34,size=4500)\n",
    "granada2=ss.poisson.rvs(loc=18,mu=14,size=1500)\n",
    "Granada=np.concatenate((granada1,granada2))"
   ]
  },
  {
   "cell_type": "code",
   "execution_count": null,
   "metadata": {},
   "outputs": [],
   "source": [
    "print(Espanya.mean())\n",
    "print(Granada.mean())"
   ]
  },
  {
   "attachments": {},
   "cell_type": "markdown",
   "metadata": {},
   "source": [
    "$$H_0 :   \\mu_{G}=\\mu_{ES}$$\n",
    "$$H_1 : \\mu_{G} \\neq \\mu_{ES}$$"
   ]
  },
  {
   "cell_type": "code",
   "execution_count": null,
   "metadata": {},
   "outputs": [],
   "source": [
    "estadistico,pvalor=ss.ttest_1samp(Granada,Espanya.mean())"
   ]
  },
  {
   "cell_type": "code",
   "execution_count": null,
   "metadata": {},
   "outputs": [],
   "source": [
    "if pvalor<=0.05:\n",
    "    print(\"Rechazamos la ****\")\n",
    "else:\n",
    "    print(\"Aceptamos la ***\")"
   ]
  },
  {
   "cell_type": "code",
   "execution_count": null,
   "metadata": {},
   "outputs": [],
   "source": [
    "Madrid1=ss.poisson.rvs(loc=18,mu=37,size=120)\n",
    "Madrid2=ss.poisson.rvs(loc=18,mu=13,size=80)\n",
    "Madrid=np.concatenate((Madrid1,Madrid2))"
   ]
  },
  {
   "cell_type": "code",
   "execution_count": null,
   "metadata": {},
   "outputs": [],
   "source": [
    "Madrid.mean()"
   ]
  },
  {
   "cell_type": "code",
   "execution_count": null,
   "metadata": {},
   "outputs": [],
   "source": [
    "ss.ttest_ind(Granada,Madrid,equal_var=False)"
   ]
  },
  {
   "attachments": {},
   "cell_type": "markdown",
   "metadata": {},
   "source": [
    "$$ H_0 : \\mu_{Gr} \\leq \\mu_{Ma}$$\n",
    "$$ H_1 : \\mu_{Gr} > \\mu_{Ma}$$"
   ]
  },
  {
   "cell_type": "code",
   "execution_count": null,
   "metadata": {},
   "outputs": [],
   "source": [
    "ss.ttest_ind(Granada,Madrid,equal_var=False,alternative=\"greater\")"
   ]
  },
  {
   "cell_type": "code",
   "execution_count": null,
   "metadata": {},
   "outputs": [],
   "source": [
    "## T-test Pareado\n",
    "peso_precovid=ss.norm.rvs(scale=30,loc=100,size=1000)\n",
    "peso_postcovid=peso_precovid+ss.norm.rvs(scale=10,loc=1.25,size=1000)"
   ]
  },
  {
   "cell_type": "code",
   "execution_count": null,
   "metadata": {},
   "outputs": [],
   "source": [
    "Pesos=pd.DataFrame({\"peso_precovid\":peso_precovid,\n",
    "              \"peso_postcovid\":peso_postcovid,\n",
    "              \"Diferencia\":peso_postcovid-peso_precovid})"
   ]
  },
  {
   "cell_type": "code",
   "execution_count": null,
   "metadata": {},
   "outputs": [],
   "source": [
    "Pesos.info()"
   ]
  },
  {
   "cell_type": "code",
   "execution_count": null,
   "metadata": {},
   "outputs": [],
   "source": [
    "Pesos.describe().T"
   ]
  },
  {
   "attachments": {},
   "cell_type": "markdown",
   "metadata": {},
   "source": [
    "$$ H_0: \\mu_{AC} = \\mu_{DC} $$\n",
    "$$ H_1: \\mu_{AC} \\neq \\mu_{DC} $$"
   ]
  },
  {
   "cell_type": "code",
   "execution_count": null,
   "metadata": {},
   "outputs": [],
   "source": [
    "ss.ttest_rel(peso_precovid,peso_postcovid,alternative=\"two-sided\")"
   ]
  },
  {
   "attachments": {},
   "cell_type": "markdown",
   "metadata": {},
   "source": [
    "$$ H_0: \\mu_{AC} \\leq \\mu_{DC} $$\n",
    "$$ H_1: \\mu_{AC} > \\mu_{DC} $$"
   ]
  },
  {
   "cell_type": "code",
   "execution_count": null,
   "metadata": {},
   "outputs": [],
   "source": [
    "ss.ttest_rel(peso_precovid,peso_postcovid,alternative=\"greater\")"
   ]
  },
  {
   "attachments": {},
   "cell_type": "markdown",
   "metadata": {},
   "source": [
    "$$ H_0: \\mu_{AC} \\geq \\mu_{DC} $$\n",
    "$$ H_1: \\mu_{AC} < \\mu_{DC} $$"
   ]
  },
  {
   "cell_type": "code",
   "execution_count": null,
   "metadata": {},
   "outputs": [],
   "source": [
    "ss.ttest_rel(peso_precovid,peso_postcovid,alternative=\"less\")"
   ]
  },
  {
   "cell_type": "code",
   "execution_count": null,
   "metadata": {},
   "outputs": [],
   "source": [
    "ss.ttest_rel?"
   ]
  },
  {
   "attachments": {},
   "cell_type": "markdown",
   "metadata": {},
   "source": [
    "### Anova"
   ]
  },
  {
   "cell_type": "code",
   "execution_count": null,
   "metadata": {},
   "outputs": [],
   "source": [
    "Peliculas=[\"IJ\",\"Bat\",\"Marvel\",\"Senor_Anillos\",\"Tenet\"]\n",
    "pelicula_vista=np.random.choice(a=Peliculas,\n",
    "                                p=[0.1,0.2,0.2,0.15,0.35],\n",
    "                                size=1000)\n",
    "voto_Edad=ss.poisson.rvs(loc=9,mu=25,size=1000)"
   ]
  },
  {
   "cell_type": "code",
   "execution_count": null,
   "metadata": {},
   "outputs": [],
   "source": [
    "df=pd.DataFrame({\"Pelicula\":pelicula_vista,\n",
    "              \"Edad\":voto_Edad})"
   ]
  },
  {
   "cell_type": "code",
   "execution_count": null,
   "metadata": {},
   "outputs": [],
   "source": [
    "df"
   ]
  },
  {
   "cell_type": "code",
   "execution_count": null,
   "metadata": {},
   "outputs": [],
   "source": [
    "grupos=df.groupby('Pelicula').groups"
   ]
  },
  {
   "cell_type": "code",
   "execution_count": null,
   "metadata": {},
   "outputs": [],
   "source": [
    "Bat=voto_Edad[grupos[\"Bat\"]]\n",
    "IJ=voto_Edad[grupos[\"IJ\"]]\n",
    "Marvel=voto_Edad[grupos[\"Marvel\"]]\n",
    "Tenet=voto_Edad[grupos[\"Tenet\"]]\n",
    "Senor_Anillos=voto_Edad[grupos[\"Senor_Anillos\"]]"
   ]
  },
  {
   "cell_type": "code",
   "execution_count": null,
   "metadata": {},
   "outputs": [],
   "source": [
    "ss.f_oneway(Senor_Anillos,Bat,Tenet,IJ,Marvel)"
   ]
  },
  {
   "attachments": {},
   "cell_type": "markdown",
   "metadata": {},
   "source": [
    "$$ H_0: \\mu_{0}=\\mu_{1}=\\ldots=\\mu_{n}$$\n",
    "$$ H_1: \\mu_{i}\\neq\\mu_{j} \\text{existe un i que la media es diferente para un j}$$"
   ]
  },
  {
   "cell_type": "code",
   "execution_count": null,
   "metadata": {},
   "outputs": [],
   "source": [
    "import statsmodels.api as sm\n",
    "from statsmodels.formula.api import ols"
   ]
  },
  {
   "cell_type": "code",
   "execution_count": null,
   "metadata": {},
   "outputs": [],
   "source": [
    "modelo=ols('Edad~Pelicula',data=df).fit()"
   ]
  },
  {
   "cell_type": "code",
   "execution_count": null,
   "metadata": {},
   "outputs": [],
   "source": [
    "modelo"
   ]
  },
  {
   "cell_type": "code",
   "execution_count": null,
   "metadata": {},
   "outputs": [],
   "source": [
    "sm.stats.anova_lm(modelo,typ=2)"
   ]
  },
  {
   "cell_type": "code",
   "execution_count": null,
   "metadata": {},
   "outputs": [],
   "source": [
    "IJ_Edad=ss.poisson.rvs(loc=18,mu=35,size=1000)\n",
    "voto_Edad=np.where(pelicula_vista==\"IJ\",IJ_Edad,voto_Edad)"
   ]
  },
  {
   "cell_type": "code",
   "execution_count": null,
   "metadata": {},
   "outputs": [],
   "source": [
    "df_1=pd.DataFrame({\"Pelicula\":pelicula_vista,\n",
    "              \"Edad\":voto_Edad})"
   ]
  },
  {
   "cell_type": "code",
   "execution_count": null,
   "metadata": {},
   "outputs": [],
   "source": [
    "modelo=ols('Edad~Pelicula',data=df_1).fit()"
   ]
  },
  {
   "cell_type": "code",
   "execution_count": null,
   "metadata": {},
   "outputs": [],
   "source": [
    "sm.stats.anova_lm(modelo,typ=2)"
   ]
  },
  {
   "attachments": {},
   "cell_type": "markdown",
   "metadata": {},
   "source": [
    "### Ejercicio\n",
    "De manera automática encontrar el grupo diferente"
   ]
  },
  {
   "attachments": {},
   "cell_type": "markdown",
   "metadata": {},
   "source": [
    "### Solución\n",
    "* Hacer las parejas\n",
    "    *  Crearé una lista vacía para guardar las parejas\n",
    "    * Lo haré mediante un for y tengo que evitar que las parejas se repitan o sean de la misma pelicula\n",
    "* Cada pareja pasará por un ttest_ind\n",
    "* Supondré que la varianza es desigual\n",
    "* Si el p>0.05 pasaré\n",
    "* Si es P<0.05 me quedaré con esa pareja\n",
    "\n"
   ]
  },
  {
   "cell_type": "code",
   "execution_count": null,
   "metadata": {},
   "outputs": [],
   "source": [
    "Peliculas=[\"IJ\",\"Bat\",\"Marvel\",\"Senor_Anillos\",\"Tenet\"]\n",
    "## Hacemos parejas\n",
    "Parejas=[]\n",
    "for x in range(4):\n",
    "    for y in range(x+1,5):\n",
    "        Parejas.append((Peliculas[x],Peliculas[y]))"
   ]
  },
  {
   "cell_type": "code",
   "execution_count": null,
   "metadata": {},
   "outputs": [],
   "source": [
    "Parejas"
   ]
  },
  {
   "cell_type": "code",
   "execution_count": null,
   "metadata": {},
   "outputs": [],
   "source": [
    "Parejas[0][0]"
   ]
  },
  {
   "cell_type": "code",
   "execution_count": null,
   "metadata": {},
   "outputs": [],
   "source": [
    "ss.ttest_ind(voto_Edad[grupos[Parejas[0][0]]],\n",
    "             voto_Edad[grupos[Parejas[0][1]]],\n",
    "             equal_var=False)"
   ]
  },
  {
   "cell_type": "code",
   "execution_count": null,
   "metadata": {},
   "outputs": [],
   "source": [
    "for Peli1,Peli2 in Parejas:\n",
    "    estadistico,pvalor=ss.ttest_ind(voto_Edad[grupos[Peli1]],\n",
    "             voto_Edad[grupos[Peli2]],\n",
    "             equal_var=False)\n",
    "    if pvalor<0.05:\n",
    "        print(\"\\n\",Peli1,\"-vs-\",Peli2)"
   ]
  },
  {
   "cell_type": "code",
   "execution_count": null,
   "metadata": {},
   "outputs": [],
   "source": [
    "from  statsmodels.stats.multicomp import pairwise_tukeyhsd"
   ]
  },
  {
   "cell_type": "code",
   "execution_count": null,
   "metadata": {},
   "outputs": [],
   "source": [
    "tukey=pairwise_tukeyhsd(voto_Edad,pelicula_vista,alpha=0.05)"
   ]
  },
  {
   "cell_type": "code",
   "execution_count": null,
   "metadata": {},
   "outputs": [],
   "source": [
    "tukey.summary()"
   ]
  },
  {
   "cell_type": "code",
   "execution_count": null,
   "metadata": {},
   "outputs": [],
   "source": [
    "tukey.plot_simultaneous()"
   ]
  },
  {
   "cell_type": "code",
   "execution_count": null,
   "metadata": {},
   "outputs": [],
   "source": []
  }
 ],
 "metadata": {
  "kernelspec": {
   "display_name": "base",
   "language": "python",
   "name": "python3"
  },
  "language_info": {
   "codemirror_mode": {
    "name": "ipython",
    "version": 3
   },
   "file_extension": ".py",
   "mimetype": "text/x-python",
   "name": "python",
   "nbconvert_exporter": "python",
   "pygments_lexer": "ipython3",
   "version": "3.9.12"
  },
  "orig_nbformat": 4
 },
 "nbformat": 4,
 "nbformat_minor": 2
}
