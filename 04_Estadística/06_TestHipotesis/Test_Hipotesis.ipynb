{
 "cells": [
  {
   "cell_type": "code",
   "execution_count": 1,
   "metadata": {},
   "outputs": [],
   "source": [
    "### Ejemeplo de T-Test de una muestra\n",
    "### Ejemeplo de T-Test de dos muestra\n",
    "### Ejemeplo de T-Test pareado\n",
    "## ANova\n",
    "## Independencia de datos cualitativos"
   ]
  },
  {
   "cell_type": "code",
   "execution_count": 2,
   "metadata": {},
   "outputs": [],
   "source": [
    "## Librerias\n",
    "import pandas as pd\n",
    "import numpy as np\n",
    "import scipy.stats as ss\n",
    "import matplotlib.pyplot as plt\n",
    "import math"
   ]
  },
  {
   "cell_type": "code",
   "execution_count": 3,
   "metadata": {},
   "outputs": [],
   "source": [
    "np.random.seed(1234)"
   ]
  },
  {
   "cell_type": "code",
   "execution_count": 4,
   "metadata": {},
   "outputs": [],
   "source": [
    "poblacion1=ss.poisson.rvs(loc=18,mu=35,size=450000)\n",
    "poblacion2=ss.poisson.rvs(loc=18,mu=15,size=150000)"
   ]
  },
  {
   "cell_type": "code",
   "execution_count": 5,
   "metadata": {},
   "outputs": [],
   "source": [
    "Espanya=np.concatenate((poblacion1,poblacion2))"
   ]
  },
  {
   "cell_type": "code",
   "execution_count": 8,
   "metadata": {},
   "outputs": [],
   "source": [
    "granada1=ss.poisson.rvs(loc=18,mu=34,size=4500)\n",
    "granada2=ss.poisson.rvs(loc=18,mu=14,size=1500)\n",
    "Granada=np.concatenate((granada1,granada2))"
   ]
  },
  {
   "cell_type": "code",
   "execution_count": 11,
   "metadata": {},
   "outputs": [
    {
     "name": "stdout",
     "output_type": "stream",
     "text": [
      "47.985978333333335\n",
      "47.041333333333334\n"
     ]
    }
   ],
   "source": [
    "print(Espanya.mean())\n",
    "print(Granada.mean())"
   ]
  },
  {
   "attachments": {},
   "cell_type": "markdown",
   "metadata": {},
   "source": [
    "$$H_0 :   \\mu_{G}=\\mu_{ES}$$\n",
    "$$H_1 : \\mu_{G} \\neq \\mu_{ES}$$"
   ]
  },
  {
   "cell_type": "code",
   "execution_count": 15,
   "metadata": {},
   "outputs": [
    {
     "name": "stderr",
     "output_type": "stream",
     "text": [
      "c:\\Users\\Daniel Montes\\Anaconda3\\lib\\site-packages\\numpy\\core\\fromnumeric.py:3723: RuntimeWarning: Degrees of freedom <= 0 for slice\n",
      "  return _methods._var(a, axis=axis, dtype=dtype, out=out, ddof=ddof,\n",
      "c:\\Users\\Daniel Montes\\Anaconda3\\lib\\site-packages\\numpy\\core\\_methods.py:254: RuntimeWarning: invalid value encountered in double_scalars\n",
      "  ret = ret.dtype.type(ret / rcount)\n"
     ]
    }
   ],
   "source": [
    "estadistico,pvalor=ss.ttest_1samp(Granada,Espanya.mean())"
   ]
  },
  {
   "cell_type": "code",
   "execution_count": 16,
   "metadata": {},
   "outputs": [
    {
     "name": "stdout",
     "output_type": "stream",
     "text": [
      "Aceptamos la ***\n"
     ]
    }
   ],
   "source": [
    "if pvalor<=0.05:\n",
    "    print(\"Rechazamos la ****\")\n",
    "else:\n",
    "    print(\"Aceptamos la ***\")"
   ]
  },
  {
   "cell_type": "code",
   "execution_count": 18,
   "metadata": {},
   "outputs": [],
   "source": [
    "Madrid1=ss.poisson.rvs(loc=18,mu=37,size=120)\n",
    "Madrid2=ss.poisson.rvs(loc=18,mu=13,size=80)\n",
    "Madrid=np.concatenate((Madrid1,Madrid2))"
   ]
  },
  {
   "cell_type": "code",
   "execution_count": 19,
   "metadata": {},
   "outputs": [
    {
     "data": {
      "text/plain": [
       "45.51"
      ]
     },
     "execution_count": 19,
     "metadata": {},
     "output_type": "execute_result"
    }
   ],
   "source": [
    "Madrid.mean()"
   ]
  },
  {
   "cell_type": "code",
   "execution_count": 23,
   "metadata": {},
   "outputs": [
    {
     "data": {
      "text/plain": [
       "Ttest_indResult(statistic=1.625292813950837, pvalue=0.1056206976163851)"
      ]
     },
     "execution_count": 23,
     "metadata": {},
     "output_type": "execute_result"
    }
   ],
   "source": [
    "ss.ttest_ind(Granada,Madrid,equal_var=False)"
   ]
  },
  {
   "attachments": {},
   "cell_type": "markdown",
   "metadata": {},
   "source": [
    "$$ H_0 : \\mu_{Gr} \\leq \\mu_{Ma}$$\n",
    "$$ H_1 : \\mu_{Gr} > \\mu_{Ma}$$"
   ]
  },
  {
   "cell_type": "code",
   "execution_count": 39,
   "metadata": {},
   "outputs": [
    {
     "data": {
      "text/plain": [
       "Ttest_indResult(statistic=1.625292813950837, pvalue=0.05281034880819255)"
      ]
     },
     "execution_count": 39,
     "metadata": {},
     "output_type": "execute_result"
    }
   ],
   "source": [
    "ss.ttest_ind(Granada,Madrid,equal_var=False,alternative=\"greater\")"
   ]
  },
  {
   "cell_type": "code",
   "execution_count": 24,
   "metadata": {},
   "outputs": [],
   "source": [
    "## T-test Pareado\n",
    "peso_precovid=ss.norm.rvs(scale=30,loc=100,size=1000)\n",
    "peso_postcovid=peso_precovid+ss.norm.rvs(scale=10,loc=1.25,size=1000)"
   ]
  },
  {
   "cell_type": "code",
   "execution_count": 26,
   "metadata": {},
   "outputs": [],
   "source": [
    "Pesos=pd.DataFrame({\"peso_precovid\":peso_precovid,\n",
    "              \"peso_postcovid\":peso_postcovid,\n",
    "              \"Diferencia\":peso_postcovid-peso_precovid})"
   ]
  },
  {
   "cell_type": "code",
   "execution_count": 27,
   "metadata": {},
   "outputs": [
    {
     "name": "stdout",
     "output_type": "stream",
     "text": [
      "<class 'pandas.core.frame.DataFrame'>\n",
      "RangeIndex: 1000 entries, 0 to 999\n",
      "Data columns (total 3 columns):\n",
      " #   Column          Non-Null Count  Dtype  \n",
      "---  ------          --------------  -----  \n",
      " 0   peso_precovid   1000 non-null   float64\n",
      " 1   peso_postcovid  1000 non-null   float64\n",
      " 2   Diferencia      1000 non-null   float64\n",
      "dtypes: float64(3)\n",
      "memory usage: 23.6 KB\n"
     ]
    }
   ],
   "source": [
    "Pesos.info()"
   ]
  },
  {
   "cell_type": "code",
   "execution_count": 29,
   "metadata": {},
   "outputs": [
    {
     "data": {
      "text/html": [
       "<div>\n",
       "<style scoped>\n",
       "    .dataframe tbody tr th:only-of-type {\n",
       "        vertical-align: middle;\n",
       "    }\n",
       "\n",
       "    .dataframe tbody tr th {\n",
       "        vertical-align: top;\n",
       "    }\n",
       "\n",
       "    .dataframe thead th {\n",
       "        text-align: right;\n",
       "    }\n",
       "</style>\n",
       "<table border=\"1\" class=\"dataframe\">\n",
       "  <thead>\n",
       "    <tr style=\"text-align: right;\">\n",
       "      <th></th>\n",
       "      <th>count</th>\n",
       "      <th>mean</th>\n",
       "      <th>std</th>\n",
       "      <th>min</th>\n",
       "      <th>25%</th>\n",
       "      <th>50%</th>\n",
       "      <th>75%</th>\n",
       "      <th>max</th>\n",
       "    </tr>\n",
       "  </thead>\n",
       "  <tbody>\n",
       "    <tr>\n",
       "      <th>peso_precovid</th>\n",
       "      <td>1000.0</td>\n",
       "      <td>99.494926</td>\n",
       "      <td>29.372044</td>\n",
       "      <td>18.904032</td>\n",
       "      <td>79.790172</td>\n",
       "      <td>100.538261</td>\n",
       "      <td>119.403697</td>\n",
       "      <td>191.068108</td>\n",
       "    </tr>\n",
       "    <tr>\n",
       "      <th>peso_postcovid</th>\n",
       "      <td>1000.0</td>\n",
       "      <td>100.626846</td>\n",
       "      <td>31.254265</td>\n",
       "      <td>16.217784</td>\n",
       "      <td>78.993804</td>\n",
       "      <td>102.664495</td>\n",
       "      <td>121.151589</td>\n",
       "      <td>187.196743</td>\n",
       "    </tr>\n",
       "    <tr>\n",
       "      <th>Diferencia</th>\n",
       "      <td>1000.0</td>\n",
       "      <td>1.131921</td>\n",
       "      <td>10.418869</td>\n",
       "      <td>-33.078897</td>\n",
       "      <td>-5.981580</td>\n",
       "      <td>0.986090</td>\n",
       "      <td>7.693576</td>\n",
       "      <td>33.002352</td>\n",
       "    </tr>\n",
       "  </tbody>\n",
       "</table>\n",
       "</div>"
      ],
      "text/plain": [
       "                 count        mean        std        min        25%  \\\n",
       "peso_precovid   1000.0   99.494926  29.372044  18.904032  79.790172   \n",
       "peso_postcovid  1000.0  100.626846  31.254265  16.217784  78.993804   \n",
       "Diferencia      1000.0    1.131921  10.418869 -33.078897  -5.981580   \n",
       "\n",
       "                       50%         75%         max  \n",
       "peso_precovid   100.538261  119.403697  191.068108  \n",
       "peso_postcovid  102.664495  121.151589  187.196743  \n",
       "Diferencia        0.986090    7.693576   33.002352  "
      ]
     },
     "execution_count": 29,
     "metadata": {},
     "output_type": "execute_result"
    }
   ],
   "source": [
    "Pesos.describe().T"
   ]
  },
  {
   "attachments": {},
   "cell_type": "markdown",
   "metadata": {},
   "source": [
    "$$ H_0: \\mu_{AC} = \\mu_{DC} $$\n",
    "$$ H_1: \\mu_{AC} \\neq \\mu_{DC} $$"
   ]
  },
  {
   "cell_type": "code",
   "execution_count": 36,
   "metadata": {},
   "outputs": [
    {
     "data": {
      "text/plain": [
       "Ttest_relResult(statistic=-3.4355430326134817, pvalue=0.000615696939019648)"
      ]
     },
     "execution_count": 36,
     "metadata": {},
     "output_type": "execute_result"
    }
   ],
   "source": [
    "ss.ttest_rel(peso_precovid,peso_postcovid,alternative=\"two-sided\")"
   ]
  },
  {
   "attachments": {},
   "cell_type": "markdown",
   "metadata": {},
   "source": [
    "$$ H_0: \\mu_{AC} \\leq \\mu_{DC} $$\n",
    "$$ H_1: \\mu_{AC} > \\mu_{DC} $$"
   ]
  },
  {
   "cell_type": "code",
   "execution_count": 34,
   "metadata": {},
   "outputs": [
    {
     "data": {
      "text/plain": [
       "Ttest_relResult(statistic=-3.4355430326134817, pvalue=0.9996921515304902)"
      ]
     },
     "execution_count": 34,
     "metadata": {},
     "output_type": "execute_result"
    }
   ],
   "source": [
    "ss.ttest_rel(peso_precovid,peso_postcovid,alternative=\"greater\")"
   ]
  },
  {
   "attachments": {},
   "cell_type": "markdown",
   "metadata": {},
   "source": [
    "$$ H_0: \\mu_{AC} \\geq \\mu_{DC} $$\n",
    "$$ H_1: \\mu_{AC} < \\mu_{DC} $$"
   ]
  },
  {
   "cell_type": "code",
   "execution_count": 37,
   "metadata": {},
   "outputs": [
    {
     "data": {
      "text/plain": [
       "Ttest_relResult(statistic=-3.4355430326134817, pvalue=0.000307848469509824)"
      ]
     },
     "execution_count": 37,
     "metadata": {},
     "output_type": "execute_result"
    }
   ],
   "source": [
    "ss.ttest_rel(peso_precovid,peso_postcovid,alternative=\"less\")"
   ]
  },
  {
   "cell_type": "code",
   "execution_count": 31,
   "metadata": {},
   "outputs": [
    {
     "name": "stdout",
     "output_type": "stream",
     "text": [
      "\u001b[1;31mSignature:\u001b[0m \u001b[0mss\u001b[0m\u001b[1;33m.\u001b[0m\u001b[0mttest_rel\u001b[0m\u001b[1;33m(\u001b[0m\u001b[0ma\u001b[0m\u001b[1;33m,\u001b[0m \u001b[0mb\u001b[0m\u001b[1;33m,\u001b[0m \u001b[0maxis\u001b[0m\u001b[1;33m=\u001b[0m\u001b[1;36m0\u001b[0m\u001b[1;33m,\u001b[0m \u001b[0mnan_policy\u001b[0m\u001b[1;33m=\u001b[0m\u001b[1;34m'propagate'\u001b[0m\u001b[1;33m,\u001b[0m \u001b[0malternative\u001b[0m\u001b[1;33m=\u001b[0m\u001b[1;34m'two-sided'\u001b[0m\u001b[1;33m)\u001b[0m\u001b[1;33m\u001b[0m\u001b[1;33m\u001b[0m\u001b[0m\n",
      "\u001b[1;31mDocstring:\u001b[0m\n",
      "Calculate the t-test on TWO RELATED samples of scores, a and b.\n",
      "\n",
      "This is a two-sided test for the null hypothesis that 2 related or\n",
      "repeated samples have identical average (expected) values.\n",
      "\n",
      "Parameters\n",
      "----------\n",
      "a, b : array_like\n",
      "    The arrays must have the same shape.\n",
      "axis : int or None, optional\n",
      "    Axis along which to compute test. If None, compute over the whole\n",
      "    arrays, `a`, and `b`.\n",
      "nan_policy : {'propagate', 'raise', 'omit'}, optional\n",
      "    Defines how to handle when input contains nan.\n",
      "    The following options are available (default is 'propagate'):\n",
      "\n",
      "      * 'propagate': returns nan\n",
      "      * 'raise': throws an error\n",
      "      * 'omit': performs the calculations ignoring nan values\n",
      "alternative : {'two-sided', 'less', 'greater'}, optional\n",
      "    Defines the alternative hypothesis.\n",
      "    The following options are available (default is 'two-sided'):\n",
      "\n",
      "      * 'two-sided'\n",
      "      * 'less': one-sided\n",
      "      * 'greater': one-sided\n",
      "\n",
      "      .. versionadded:: 1.6.0\n",
      "\n",
      "Returns\n",
      "-------\n",
      "statistic : float or array\n",
      "    t-statistic.\n",
      "pvalue : float or array\n",
      "    Two-sided p-value.\n",
      "\n",
      "Notes\n",
      "-----\n",
      "Examples for use are scores of the same set of student in\n",
      "different exams, or repeated sampling from the same units. The\n",
      "test measures whether the average score differs significantly\n",
      "across samples (e.g. exams). If we observe a large p-value, for\n",
      "example greater than 0.05 or 0.1 then we cannot reject the null\n",
      "hypothesis of identical average scores. If the p-value is smaller\n",
      "than the threshold, e.g. 1%, 5% or 10%, then we reject the null\n",
      "hypothesis of equal averages. Small p-values are associated with\n",
      "large t-statistics.\n",
      "\n",
      "References\n",
      "----------\n",
      "https://en.wikipedia.org/wiki/T-test#Dependent_t-test_for_paired_samples\n",
      "\n",
      "Examples\n",
      "--------\n",
      ">>> from scipy import stats\n",
      ">>> rng = np.random.default_rng()\n",
      "\n",
      ">>> rvs1 = stats.norm.rvs(loc=5, scale=10, size=500, random_state=rng)\n",
      ">>> rvs2 = (stats.norm.rvs(loc=5, scale=10, size=500, random_state=rng)\n",
      "...         + stats.norm.rvs(scale=0.2, size=500, random_state=rng))\n",
      ">>> stats.ttest_rel(rvs1, rvs2)\n",
      "Ttest_relResult(statistic=-0.4549717054410304, pvalue=0.6493274702088672)\n",
      ">>> rvs3 = (stats.norm.rvs(loc=8, scale=10, size=500, random_state=rng)\n",
      "...         + stats.norm.rvs(scale=0.2, size=500, random_state=rng))\n",
      ">>> stats.ttest_rel(rvs1, rvs3)\n",
      "Ttest_relResult(statistic=-5.879467544540889, pvalue=7.540777129099917e-09)\n",
      "\u001b[1;31mFile:\u001b[0m      c:\\users\\daniel montes\\anaconda3\\lib\\site-packages\\scipy\\stats\\stats.py\n",
      "\u001b[1;31mType:\u001b[0m      function\n"
     ]
    }
   ],
   "source": [
    "ss.ttest_rel?"
   ]
  },
  {
   "attachments": {},
   "cell_type": "markdown",
   "metadata": {},
   "source": [
    "### Anova"
   ]
  },
  {
   "cell_type": "code",
   "execution_count": 41,
   "metadata": {},
   "outputs": [],
   "source": [
    "Peliculas=[\"IJ\",\"Bat\",\"Marvel\",\"Senor_Anillos\",\"Tenet\"]\n",
    "pelicula_vista=np.random.choice(a=Peliculas,\n",
    "                                p=[0.1,0.2,0.2,0.15,0.35],\n",
    "                                size=1000)\n",
    "voto_Edad=ss.poisson.rvs(loc=9,mu=25,size=1000)"
   ]
  },
  {
   "cell_type": "code",
   "execution_count": 43,
   "metadata": {},
   "outputs": [],
   "source": [
    "df=pd.DataFrame({\"Pelicula\":pelicula_vista,\n",
    "              \"Edad\":voto_Edad})"
   ]
  },
  {
   "cell_type": "code",
   "execution_count": 44,
   "metadata": {},
   "outputs": [
    {
     "data": {
      "text/html": [
       "<div>\n",
       "<style scoped>\n",
       "    .dataframe tbody tr th:only-of-type {\n",
       "        vertical-align: middle;\n",
       "    }\n",
       "\n",
       "    .dataframe tbody tr th {\n",
       "        vertical-align: top;\n",
       "    }\n",
       "\n",
       "    .dataframe thead th {\n",
       "        text-align: right;\n",
       "    }\n",
       "</style>\n",
       "<table border=\"1\" class=\"dataframe\">\n",
       "  <thead>\n",
       "    <tr style=\"text-align: right;\">\n",
       "      <th></th>\n",
       "      <th>Pelicula</th>\n",
       "      <th>Edad</th>\n",
       "    </tr>\n",
       "  </thead>\n",
       "  <tbody>\n",
       "    <tr>\n",
       "      <th>0</th>\n",
       "      <td>Marvel</td>\n",
       "      <td>25</td>\n",
       "    </tr>\n",
       "    <tr>\n",
       "      <th>1</th>\n",
       "      <td>Tenet</td>\n",
       "      <td>40</td>\n",
       "    </tr>\n",
       "    <tr>\n",
       "      <th>2</th>\n",
       "      <td>Marvel</td>\n",
       "      <td>34</td>\n",
       "    </tr>\n",
       "    <tr>\n",
       "      <th>3</th>\n",
       "      <td>IJ</td>\n",
       "      <td>28</td>\n",
       "    </tr>\n",
       "    <tr>\n",
       "      <th>4</th>\n",
       "      <td>Bat</td>\n",
       "      <td>43</td>\n",
       "    </tr>\n",
       "    <tr>\n",
       "      <th>...</th>\n",
       "      <td>...</td>\n",
       "      <td>...</td>\n",
       "    </tr>\n",
       "    <tr>\n",
       "      <th>995</th>\n",
       "      <td>IJ</td>\n",
       "      <td>38</td>\n",
       "    </tr>\n",
       "    <tr>\n",
       "      <th>996</th>\n",
       "      <td>IJ</td>\n",
       "      <td>31</td>\n",
       "    </tr>\n",
       "    <tr>\n",
       "      <th>997</th>\n",
       "      <td>Bat</td>\n",
       "      <td>35</td>\n",
       "    </tr>\n",
       "    <tr>\n",
       "      <th>998</th>\n",
       "      <td>Marvel</td>\n",
       "      <td>33</td>\n",
       "    </tr>\n",
       "    <tr>\n",
       "      <th>999</th>\n",
       "      <td>Marvel</td>\n",
       "      <td>39</td>\n",
       "    </tr>\n",
       "  </tbody>\n",
       "</table>\n",
       "<p>1000 rows × 2 columns</p>\n",
       "</div>"
      ],
      "text/plain": [
       "    Pelicula  Edad\n",
       "0     Marvel    25\n",
       "1      Tenet    40\n",
       "2     Marvel    34\n",
       "3         IJ    28\n",
       "4        Bat    43\n",
       "..       ...   ...\n",
       "995       IJ    38\n",
       "996       IJ    31\n",
       "997      Bat    35\n",
       "998   Marvel    33\n",
       "999   Marvel    39\n",
       "\n",
       "[1000 rows x 2 columns]"
      ]
     },
     "execution_count": 44,
     "metadata": {},
     "output_type": "execute_result"
    }
   ],
   "source": [
    "df"
   ]
  },
  {
   "cell_type": "code",
   "execution_count": 47,
   "metadata": {},
   "outputs": [],
   "source": [
    "grupos=df.groupby('Pelicula').groups"
   ]
  },
  {
   "cell_type": "code",
   "execution_count": 50,
   "metadata": {},
   "outputs": [],
   "source": [
    "Bat=voto_Edad[grupos[\"Bat\"]]\n",
    "IJ=voto_Edad[grupos[\"IJ\"]]\n",
    "Marvel=voto_Edad[grupos[\"Marvel\"]]\n",
    "Tenet=voto_Edad[grupos[\"Tenet\"]]\n",
    "Senor_Anillos=voto_Edad[grupos[\"Senor_Anillos\"]]"
   ]
  },
  {
   "cell_type": "code",
   "execution_count": 51,
   "metadata": {},
   "outputs": [
    {
     "data": {
      "text/plain": [
       "F_onewayResult(statistic=0.317001365881874, pvalue=0.8667017309886061)"
      ]
     },
     "execution_count": 51,
     "metadata": {},
     "output_type": "execute_result"
    }
   ],
   "source": [
    "ss.f_oneway(Senor_Anillos,Bat,Tenet,IJ,Marvel)"
   ]
  },
  {
   "attachments": {},
   "cell_type": "markdown",
   "metadata": {},
   "source": [
    "$$ H_0: \\mu_{0}=\\mu_{1}=\\ldots=\\mu_{n}$$\n",
    "$$ H_1: \\mu_{i}\\neq\\mu_{j} \\text{existe un i que la media es diferente para un j}$$"
   ]
  },
  {
   "cell_type": "code",
   "execution_count": 52,
   "metadata": {},
   "outputs": [],
   "source": [
    "import statsmodels.api as sm\n",
    "from statsmodels.formula.api import ols"
   ]
  },
  {
   "cell_type": "code",
   "execution_count": 53,
   "metadata": {},
   "outputs": [],
   "source": [
    "modelo=ols('Edad~Pelicula',data=df).fit()"
   ]
  },
  {
   "cell_type": "code",
   "execution_count": 54,
   "metadata": {},
   "outputs": [
    {
     "data": {
      "text/plain": [
       "<statsmodels.regression.linear_model.RegressionResultsWrapper at 0x1a01a264340>"
      ]
     },
     "execution_count": 54,
     "metadata": {},
     "output_type": "execute_result"
    }
   ],
   "source": [
    "modelo"
   ]
  },
  {
   "cell_type": "code",
   "execution_count": 55,
   "metadata": {},
   "outputs": [
    {
     "data": {
      "text/html": [
       "<div>\n",
       "<style scoped>\n",
       "    .dataframe tbody tr th:only-of-type {\n",
       "        vertical-align: middle;\n",
       "    }\n",
       "\n",
       "    .dataframe tbody tr th {\n",
       "        vertical-align: top;\n",
       "    }\n",
       "\n",
       "    .dataframe thead th {\n",
       "        text-align: right;\n",
       "    }\n",
       "</style>\n",
       "<table border=\"1\" class=\"dataframe\">\n",
       "  <thead>\n",
       "    <tr style=\"text-align: right;\">\n",
       "      <th></th>\n",
       "      <th>sum_sq</th>\n",
       "      <th>df</th>\n",
       "      <th>F</th>\n",
       "      <th>PR(&gt;F)</th>\n",
       "    </tr>\n",
       "  </thead>\n",
       "  <tbody>\n",
       "    <tr>\n",
       "      <th>Pelicula</th>\n",
       "      <td>31.407111</td>\n",
       "      <td>4.0</td>\n",
       "      <td>0.317001</td>\n",
       "      <td>0.866702</td>\n",
       "    </tr>\n",
       "    <tr>\n",
       "      <th>Residual</th>\n",
       "      <td>24645.063889</td>\n",
       "      <td>995.0</td>\n",
       "      <td>NaN</td>\n",
       "      <td>NaN</td>\n",
       "    </tr>\n",
       "  </tbody>\n",
       "</table>\n",
       "</div>"
      ],
      "text/plain": [
       "                sum_sq     df         F    PR(>F)\n",
       "Pelicula     31.407111    4.0  0.317001  0.866702\n",
       "Residual  24645.063889  995.0       NaN       NaN"
      ]
     },
     "execution_count": 55,
     "metadata": {},
     "output_type": "execute_result"
    }
   ],
   "source": [
    "sm.stats.anova_lm(modelo,typ=2)"
   ]
  },
  {
   "cell_type": "code",
   "execution_count": 56,
   "metadata": {},
   "outputs": [],
   "source": [
    "IJ_Edad=ss.poisson.rvs(loc=18,mu=35,size=1000)\n",
    "voto_Edad=np.where(pelicula_vista==\"IJ\",IJ_Edad,voto_Edad)"
   ]
  },
  {
   "cell_type": "code",
   "execution_count": 57,
   "metadata": {},
   "outputs": [],
   "source": [
    "df_1=pd.DataFrame({\"Pelicula\":pelicula_vista,\n",
    "              \"Edad\":voto_Edad})"
   ]
  },
  {
   "cell_type": "code",
   "execution_count": 58,
   "metadata": {},
   "outputs": [],
   "source": [
    "modelo=ols('Edad~Pelicula',data=df_1).fit()"
   ]
  },
  {
   "cell_type": "code",
   "execution_count": 59,
   "metadata": {},
   "outputs": [
    {
     "data": {
      "text/html": [
       "<div>\n",
       "<style scoped>\n",
       "    .dataframe tbody tr th:only-of-type {\n",
       "        vertical-align: middle;\n",
       "    }\n",
       "\n",
       "    .dataframe tbody tr th {\n",
       "        vertical-align: top;\n",
       "    }\n",
       "\n",
       "    .dataframe thead th {\n",
       "        text-align: right;\n",
       "    }\n",
       "</style>\n",
       "<table border=\"1\" class=\"dataframe\">\n",
       "  <thead>\n",
       "    <tr style=\"text-align: right;\">\n",
       "      <th></th>\n",
       "      <th>sum_sq</th>\n",
       "      <th>df</th>\n",
       "      <th>F</th>\n",
       "      <th>PR(&gt;F)</th>\n",
       "    </tr>\n",
       "  </thead>\n",
       "  <tbody>\n",
       "    <tr>\n",
       "      <th>Pelicula</th>\n",
       "      <td>32253.452111</td>\n",
       "      <td>4.0</td>\n",
       "      <td>322.929646</td>\n",
       "      <td>4.559791e-178</td>\n",
       "    </tr>\n",
       "    <tr>\n",
       "      <th>Residual</th>\n",
       "      <td>24844.563889</td>\n",
       "      <td>995.0</td>\n",
       "      <td>NaN</td>\n",
       "      <td>NaN</td>\n",
       "    </tr>\n",
       "  </tbody>\n",
       "</table>\n",
       "</div>"
      ],
      "text/plain": [
       "                sum_sq     df           F         PR(>F)\n",
       "Pelicula  32253.452111    4.0  322.929646  4.559791e-178\n",
       "Residual  24844.563889  995.0         NaN            NaN"
      ]
     },
     "execution_count": 59,
     "metadata": {},
     "output_type": "execute_result"
    }
   ],
   "source": [
    "sm.stats.anova_lm(modelo,typ=2)"
   ]
  },
  {
   "attachments": {},
   "cell_type": "markdown",
   "metadata": {},
   "source": [
    "### Ejercicio\n",
    "De manera automática encontrar el grupo diferente"
   ]
  },
  {
   "attachments": {},
   "cell_type": "markdown",
   "metadata": {},
   "source": [
    "### Solución\n",
    "* Hacer las parejas\n",
    "    *  Crearé una lista vacía para guardar las parejas\n",
    "    * Lo haré mediante un for y tengo que evitar que las parejas se repitan o sean de la misma pelicula\n",
    "* Cada pareja pasará por un ttest_ind\n",
    "* Supondré que la varianza es desigual\n",
    "* Si el p>0.05 pasaré\n",
    "* Si es P<0.05 me quedaré con esa pareja\n",
    "\n"
   ]
  },
  {
   "cell_type": "code",
   "execution_count": 60,
   "metadata": {},
   "outputs": [],
   "source": [
    "Peliculas=[\"IJ\",\"Bat\",\"Marvel\",\"Senor_Anillos\",\"Tenet\"]\n",
    "## Hacemos parejas\n",
    "Parejas=[]\n",
    "for x in range(4):\n",
    "    for y in range(x+1,5):\n",
    "        Parejas.append((Peliculas[x],Peliculas[y]))"
   ]
  },
  {
   "cell_type": "code",
   "execution_count": 61,
   "metadata": {},
   "outputs": [
    {
     "data": {
      "text/plain": [
       "[('IJ', 'Bat'),\n",
       " ('IJ', 'Marvel'),\n",
       " ('IJ', 'Senor_Anillos'),\n",
       " ('IJ', 'Tenet'),\n",
       " ('Bat', 'Marvel'),\n",
       " ('Bat', 'Senor_Anillos'),\n",
       " ('Bat', 'Tenet'),\n",
       " ('Marvel', 'Senor_Anillos'),\n",
       " ('Marvel', 'Tenet'),\n",
       " ('Senor_Anillos', 'Tenet')]"
      ]
     },
     "execution_count": 61,
     "metadata": {},
     "output_type": "execute_result"
    }
   ],
   "source": [
    "Parejas"
   ]
  },
  {
   "cell_type": "code",
   "execution_count": 63,
   "metadata": {},
   "outputs": [
    {
     "data": {
      "text/plain": [
       "'IJ'"
      ]
     },
     "execution_count": 63,
     "metadata": {},
     "output_type": "execute_result"
    }
   ],
   "source": [
    "Parejas[0][0]"
   ]
  },
  {
   "cell_type": "code",
   "execution_count": 66,
   "metadata": {},
   "outputs": [
    {
     "data": {
      "text/plain": [
       "Ttest_indResult(statistic=30.37951008120176, pvalue=8.563566722047627e-66)"
      ]
     },
     "execution_count": 66,
     "metadata": {},
     "output_type": "execute_result"
    }
   ],
   "source": [
    "ss.ttest_ind(voto_Edad[grupos[Parejas[0][0]]],\n",
    "             voto_Edad[grupos[Parejas[0][1]]],\n",
    "             equal_var=False)"
   ]
  },
  {
   "cell_type": "code",
   "execution_count": 69,
   "metadata": {},
   "outputs": [
    {
     "name": "stdout",
     "output_type": "stream",
     "text": [
      "\n",
      " IJ -vs- Bat\n",
      "\n",
      " IJ -vs- Marvel\n",
      "\n",
      " IJ -vs- Senor_Anillos\n",
      "\n",
      " IJ -vs- Tenet\n"
     ]
    }
   ],
   "source": [
    "for Peli1,Peli2 in Parejas:\n",
    "    estadistico,pvalor=ss.ttest_ind(voto_Edad[grupos[Peli1]],\n",
    "             voto_Edad[grupos[Peli2]],\n",
    "             equal_var=False)\n",
    "    if pvalor<0.05:\n",
    "        print(\"\\n\",Peli1,\"-vs-\",Peli2)"
   ]
  },
  {
   "cell_type": "code",
   "execution_count": 73,
   "metadata": {},
   "outputs": [],
   "source": [
    "from  statsmodels.stats.multicomp import pairwise_tukeyhsd"
   ]
  },
  {
   "cell_type": "code",
   "execution_count": 82,
   "metadata": {},
   "outputs": [],
   "source": [
    "tukey=pairwise_tukeyhsd(voto_Edad,pelicula_vista,alpha=0.05)"
   ]
  },
  {
   "cell_type": "code",
   "execution_count": 83,
   "metadata": {},
   "outputs": [
    {
     "data": {
      "text/html": [
       "<table class=\"simpletable\">\n",
       "<caption>Multiple Comparison of Means - Tukey HSD, FWER=0.05</caption>\n",
       "<tr>\n",
       "     <th>group1</th>        <th>group2</th>     <th>meandiff</th>  <th>p-adj</th>   <th>lower</th>    <th>upper</th>  <th>reject</th>\n",
       "</tr>\n",
       "<tr>\n",
       "       <td>Bat</td>           <td>IJ</td>        <td>20.1149</td>  <td>-0.0</td>   <td>18.3882</td>  <td>21.8416</td>  <td>True</td> \n",
       "</tr>\n",
       "<tr>\n",
       "       <td>Bat</td>         <td>Marvel</td>      <td>0.2976</td>  <td>0.9746</td>  <td>-1.0512</td>  <td>1.6464</td>   <td>False</td>\n",
       "</tr>\n",
       "<tr>\n",
       "       <td>Bat</td>      <td>Senor_Anillos</td>  <td>0.1853</td>   <td>0.997</td>  <td>-1.2848</td>  <td>1.6554</td>   <td>False</td>\n",
       "</tr>\n",
       "<tr>\n",
       "       <td>Bat</td>          <td>Tenet</td>      <td>0.4722</td>  <td>0.8194</td>  <td>-0.7282</td>  <td>1.6725</td>   <td>False</td>\n",
       "</tr>\n",
       "<tr>\n",
       "       <td>IJ</td>          <td>Marvel</td>     <td>-19.8173</td>  <td>-0.0</td>  <td>-21.5441</td> <td>-18.0906</td>  <td>True</td> \n",
       "</tr>\n",
       "<tr>\n",
       "       <td>IJ</td>       <td>Senor_Anillos</td> <td>-19.9296</td>  <td>-0.0</td>  <td>-21.7526</td> <td>-18.1066</td>  <td>True</td> \n",
       "</tr>\n",
       "<tr>\n",
       "       <td>IJ</td>           <td>Tenet</td>     <td>-19.6427</td>  <td>-0.0</td>  <td>-21.2562</td> <td>-18.0293</td>  <td>True</td> \n",
       "</tr>\n",
       "<tr>\n",
       "     <td>Marvel</td>     <td>Senor_Anillos</td>  <td>-0.1123</td> <td>0.9996</td>  <td>-1.5823</td>  <td>1.3578</td>   <td>False</td>\n",
       "</tr>\n",
       "<tr>\n",
       "     <td>Marvel</td>         <td>Tenet</td>      <td>0.1746</td>  <td>0.9947</td>  <td>-1.0258</td>   <td>1.375</td>   <td>False</td>\n",
       "</tr>\n",
       "<tr>\n",
       "  <td>Senor_Anillos</td>     <td>Tenet</td>      <td>0.2869</td>   <td>0.977</td>  <td>-1.0483</td>  <td>1.6221</td>   <td>False</td>\n",
       "</tr>\n",
       "</table>"
      ],
      "text/plain": [
       "<class 'statsmodels.iolib.table.SimpleTable'>"
      ]
     },
     "execution_count": 83,
     "metadata": {},
     "output_type": "execute_result"
    }
   ],
   "source": [
    "tukey.summary()"
   ]
  },
  {
   "cell_type": "code",
   "execution_count": 79,
   "metadata": {},
   "outputs": [
    {
     "data": {
      "image/png": "[encoded data removed]",
      "text/plain": [
       "<Figure size 720x432 with 1 Axes>"
      ]
     },
     "execution_count": 79,
     "metadata": {},
     "output_type": "execute_result"
    },
    {
     "data": {
      "image/png": "[encoded data removed]",
      "text/plain": [
       "<Figure size 720x432 with 1 Axes>"
      ]
     },
     "metadata": {
      "needs_background": "light"
     },
     "output_type": "display_data"
    }
   ],
   "source": [
    "tukey.plot_simultaneous()"
   ]
  },
  {
   "cell_type": "code",
   "execution_count": null,
   "metadata": {},
   "outputs": [],
   "source": []
  }
 ],
 "metadata": {
  "kernelspec": {
   "display_name": "base",
   "language": "python",
   "name": "python3"
  },
  "language_info": {
   "codemirror_mode": {
    "name": "ipython",
    "version": 3
   },
   "file_extension": ".py",
   "mimetype": "text/x-python",
   "name": "python",
   "nbconvert_exporter": "python",
   "pygments_lexer": "ipython3",
   "version": "3.9.12"
  },
  "orig_nbformat": 4
 },
 "nbformat": 4,
 "nbformat_minor": 2
}
