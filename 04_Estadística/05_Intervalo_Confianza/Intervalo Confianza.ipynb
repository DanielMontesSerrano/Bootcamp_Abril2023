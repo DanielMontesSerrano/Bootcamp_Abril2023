{
 "cells": [
  {
   "cell_type": "code",
   "execution_count": 1,
   "id": "7ff88e85",
   "metadata": {},
   "outputs": [],
   "source": [
    "### Librerias\n",
    "import numpy as np\n",
    "import scipy.stats as ss\n",
    "import random \n",
    "import math\n",
    "import matplotlib.pyplot as plt "
   ]
  },
  {
   "cell_type": "code",
   "execution_count": 19,
   "id": "a6f35459",
   "metadata": {},
   "outputs": [],
   "source": [
    "np.random.seed(1234)\n",
    "#Poblacion_1=ss.poisson.rvs()\n",
    "Poblacion_1=ss.poisson.rvs(loc=5,mu=35,size=15000000)\n",
    "Poblacion_2=ss.poisson.rvs(loc=18,mu=10,size=10000000)"
   ]
  },
  {
   "cell_type": "code",
   "execution_count": 20,
   "id": "77bbe49b",
   "metadata": {},
   "outputs": [],
   "source": [
    "Poblacion=np.concatenate((Poblacion_1,Poblacion_2))"
   ]
  },
  {
   "cell_type": "code",
   "execution_count": 21,
   "id": "8654e976",
   "metadata": {},
   "outputs": [
    {
     "data": {
      "text/plain": [
       "25000000"
      ]
     },
     "execution_count": 21,
     "metadata": {},
     "output_type": "execute_result"
    }
   ],
   "source": [
    "len(Poblacion)"
   ]
  },
  {
   "cell_type": "code",
   "execution_count": 22,
   "id": "3bb624fb",
   "metadata": {},
   "outputs": [
    {
     "data": {
      "text/plain": [
       "35.20056272"
      ]
     },
     "execution_count": 22,
     "metadata": {},
     "output_type": "execute_result"
    }
   ],
   "source": [
    "Poblacion.mean()"
   ]
  },
  {
   "cell_type": "code",
   "execution_count": 23,
   "id": "a870da8b",
   "metadata": {},
   "outputs": [
    {
     "data": {
      "text/plain": [
       "40.00116353333333"
      ]
     },
     "execution_count": 23,
     "metadata": {},
     "output_type": "execute_result"
    }
   ],
   "source": [
    "Poblacion_1.mean()"
   ]
  },
  {
   "cell_type": "code",
   "execution_count": 24,
   "id": "6bd67260",
   "metadata": {},
   "outputs": [
    {
     "data": {
      "text/plain": [
       "27.9996615"
      ]
     },
     "execution_count": 24,
     "metadata": {},
     "output_type": "execute_result"
    }
   ],
   "source": [
    "Poblacion_2.mean()"
   ]
  },
  {
   "cell_type": "code",
   "execution_count": 29,
   "id": "c356e466",
   "metadata": {},
   "outputs": [],
   "source": [
    "## seleccionamos una muestra\n",
    "muestra_edades=np.random.choice(a=Poblacion,size=20)"
   ]
  },
  {
   "cell_type": "code",
   "execution_count": 30,
   "id": "788ef320",
   "metadata": {},
   "outputs": [
    {
     "data": {
      "text/plain": [
       "33.15"
      ]
     },
     "execution_count": 30,
     "metadata": {},
     "output_type": "execute_result"
    }
   ],
   "source": [
    "muestra_edades.mean()"
   ]
  },
  {
   "cell_type": "code",
   "execution_count": 31,
   "id": "84df88cf",
   "metadata": {},
   "outputs": [
    {
     "data": {
      "text/plain": [
       "2.050562720000002"
      ]
     },
     "execution_count": 31,
     "metadata": {},
     "output_type": "execute_result"
    }
   ],
   "source": [
    "### Frecuencia Absoluta\n",
    "Poblacion.mean()-muestra_edades.mean()"
   ]
  },
  {
   "cell_type": "code",
   "execution_count": 32,
   "id": "bbd770fe",
   "metadata": {},
   "outputs": [
    {
     "data": {
      "text/plain": [
       "5.82536914625779"
      ]
     },
     "execution_count": 32,
     "metadata": {},
     "output_type": "execute_result"
    }
   ],
   "source": [
    "### Frecuencia relativa\n",
    "abs((Poblacion.mean()-muestra_edades.mean())/Poblacion.mean())*100"
   ]
  },
  {
   "cell_type": "code",
   "execution_count": 12,
   "id": "33f02f03",
   "metadata": {},
   "outputs": [],
   "source": [
    "### Proporción \n",
    "poblacion_color_ojos=([\"marron\"]*137215 + [\"azul\"]*50025+[\"verde\"]*80132+[\"negro\"]*20200)"
   ]
  },
  {
   "cell_type": "code",
   "execution_count": 13,
   "id": "e28718d1",
   "metadata": {},
   "outputs": [
    {
     "data": {
      "text/plain": [
       "287572"
      ]
     },
     "execution_count": 13,
     "metadata": {},
     "output_type": "execute_result"
    }
   ],
   "source": [
    "len(poblacion_color_ojos)"
   ]
  },
  {
   "cell_type": "code",
   "execution_count": 33,
   "id": "a5b5307d",
   "metadata": {},
   "outputs": [],
   "source": [
    "## Muestra\n",
    "muestra_color_ojos=random.sample(poblacion_color_ojos,2300)"
   ]
  },
  {
   "cell_type": "code",
   "execution_count": 34,
   "id": "ffa8e06f",
   "metadata": {},
   "outputs": [
    {
     "name": "stdout",
     "output_type": "stream",
     "text": [
      "proporcion estimada del verde será: 0.2791304347826087\n",
      "proporcion estimada del azul será: 0.17478260869565218\n",
      "proporcion estimada del marron será: 0.4826086956521739\n",
      "proporcion estimada del negro será: 0.06347826086956522\n"
     ]
    }
   ],
   "source": [
    "for color in set(poblacion_color_ojos):\n",
    "    print(\"proporcion estimada del {color} será: {resultado}\".format(color=color,resultado=muestra_color_ojos.count(color)/len(muestra_color_ojos)))"
   ]
  },
  {
   "cell_type": "code",
   "execution_count": 35,
   "id": "6c9e6ce7",
   "metadata": {},
   "outputs": [],
   "source": [
    "import pandas as pd"
   ]
  },
  {
   "cell_type": "code",
   "execution_count": null,
   "id": "9a86f487",
   "metadata": {},
   "outputs": [],
   "source": [
    "pd.DataFrame(poblacion_color_ojos)#.values_count()"
   ]
  },
  {
   "cell_type": "code",
   "execution_count": 36,
   "id": "9e449631",
   "metadata": {},
   "outputs": [],
   "source": [
    "a=pd.DataFrame(poblacion_color_ojos)"
   ]
  },
  {
   "cell_type": "code",
   "execution_count": 37,
   "id": "6ae6aa51",
   "metadata": {},
   "outputs": [
    {
     "data": {
      "text/plain": [
       "marron    0.477150\n",
       "verde     0.278650\n",
       "azul      0.173956\n",
       "negro     0.070243\n",
       "Name: 0, dtype: float64"
      ]
     },
     "execution_count": 37,
     "metadata": {},
     "output_type": "execute_result"
    }
   ],
   "source": [
    "a[0].value_counts(normalize=True)"
   ]
  },
  {
   "cell_type": "code",
   "execution_count": 38,
   "id": "bd734d08",
   "metadata": {},
   "outputs": [
    {
     "data": {
      "image/png": "[encoded data removed]",
      "text/plain": [
       "<Figure size 432x288 with 1 Axes>"
      ]
     },
     "metadata": {
      "needs_background": "light"
     },
     "output_type": "display_data"
    }
   ],
   "source": [
    "pd.DataFrame(Poblacion).hist(bins=50,range=(17.5,70));"
   ]
  },
  {
   "cell_type": "code",
   "execution_count": 39,
   "id": "366425fb",
   "metadata": {},
   "outputs": [
    {
     "data": {
      "text/plain": [
       "-0.6947503357645544"
      ]
     },
     "execution_count": 39,
     "metadata": {},
     "output_type": "execute_result"
    }
   ],
   "source": [
    "ss.kurtosis(Poblacion)"
   ]
  },
  {
   "cell_type": "code",
   "execution_count": 40,
   "id": "56f99077",
   "metadata": {},
   "outputs": [
    {
     "data": {
      "text/plain": [
       "0.343981711746185"
      ]
     },
     "execution_count": 40,
     "metadata": {},
     "output_type": "execute_result"
    }
   ],
   "source": [
    "ss.skew(Poblacion)"
   ]
  },
  {
   "cell_type": "code",
   "execution_count": 49,
   "id": "149819ac",
   "metadata": {},
   "outputs": [],
   "source": [
    "np.random.seed(125)\n",
    "estimacion_puntual=[]\n",
    "for x in range(20000):\n",
    "    muestra=np.random.choice(a=Poblacion,size=1000)\n",
    "    estimacion_puntual.append(muestra.mean())"
   ]
  },
  {
   "cell_type": "code",
   "execution_count": 52,
   "id": "83e9f515",
   "metadata": {},
   "outputs": [
    {
     "data": {
      "image/png": "[encoded data removed]",
      "text/plain": [
       "<Figure size 432x288 with 1 Axes>"
      ]
     },
     "metadata": {
      "needs_background": "light"
     },
     "output_type": "display_data"
    }
   ],
   "source": [
    "pd.DataFrame(estimacion_puntual).plot(kind=\"density\");"
   ]
  },
  {
   "cell_type": "code",
   "execution_count": 50,
   "id": "970f6bb7",
   "metadata": {},
   "outputs": [
    {
     "data": {
      "text/plain": [
       "35.203100649999996"
      ]
     },
     "execution_count": 50,
     "metadata": {},
     "output_type": "execute_result"
    }
   ],
   "source": [
    "np.array(estimacion_puntual).mean()"
   ]
  },
  {
   "cell_type": "code",
   "execution_count": 62,
   "id": "cb3aea5a",
   "metadata": {},
   "outputs": [
    {
     "data": {
      "text/plain": [
       "35.20056272"
      ]
     },
     "execution_count": 62,
     "metadata": {},
     "output_type": "execute_result"
    }
   ],
   "source": [
    "Poblacion.mean()"
   ]
  },
  {
   "cell_type": "code",
   "execution_count": null,
   "id": "83b86bcb",
   "metadata": {},
   "outputs": [],
   "source": [
    "### Intervalos de Confianza"
   ]
  },
  {
   "cell_type": "code",
   "execution_count": 53,
   "id": "31db85a5",
   "metadata": {},
   "outputs": [],
   "source": [
    "n=100\n",
    "muestra=np.random.choice(a=Poblacion,size=n)\n",
    "media_muestral=muestra.mean()"
   ]
  },
  {
   "cell_type": "code",
   "execution_count": 63,
   "id": "9f0c78e8",
   "metadata": {},
   "outputs": [
    {
     "data": {
      "text/plain": [
       "35.53"
      ]
     },
     "execution_count": 63,
     "metadata": {},
     "output_type": "execute_result"
    }
   ],
   "source": [
    "media_muestral"
   ]
  },
  {
   "cell_type": "code",
   "execution_count": null,
   "id": "3f5c59b8",
   "metadata": {},
   "outputs": [],
   "source": [
    "## Conociendo la varianza"
   ]
  },
  {
   "cell_type": "code",
   "execution_count": 55,
   "id": "da63e67b",
   "metadata": {},
   "outputs": [],
   "source": [
    "alpha=0.05"
   ]
  },
  {
   "cell_type": "code",
   "execution_count": 56,
   "id": "529d84d0",
   "metadata": {},
   "outputs": [],
   "source": [
    "z_alpha_2=alpha/2"
   ]
  },
  {
   "attachments": {},
   "cell_type": "markdown",
   "id": "80d8e39c",
   "metadata": {},
   "source": [
    "$$\\bar{x}\\pm Z_{\\cfrac{\\alpha}{2}}\\cfrac{\\sigma}{\\sqrt{n}}$$"
   ]
  },
  {
   "cell_type": "code",
   "execution_count": 57,
   "id": "84bb8e50",
   "metadata": {},
   "outputs": [],
   "source": [
    "z_critico=ss.norm.ppf(z_alpha_2)"
   ]
  },
  {
   "cell_type": "code",
   "execution_count": 58,
   "id": "05faa99c",
   "metadata": {},
   "outputs": [
    {
     "data": {
      "text/plain": [
       "-1.9599639845400545"
      ]
     },
     "execution_count": 58,
     "metadata": {},
     "output_type": "execute_result"
    }
   ],
   "source": [
    "z_critico"
   ]
  },
  {
   "cell_type": "code",
   "execution_count": 59,
   "id": "b6aed229",
   "metadata": {},
   "outputs": [],
   "source": [
    "desviacion=Poblacion.std()"
   ]
  },
  {
   "cell_type": "code",
   "execution_count": 60,
   "id": "6714e2dd",
   "metadata": {},
   "outputs": [],
   "source": [
    "Error=z_critico*(desviacion/n)"
   ]
  },
  {
   "cell_type": "code",
   "execution_count": 61,
   "id": "182c9598",
   "metadata": {},
   "outputs": [
    {
     "name": "stdout",
     "output_type": "stream",
     "text": [
      "Mi intervalo de confianza para la media es de [35.37872262234928,35.68127737765072]\n"
     ]
    }
   ],
   "source": [
    "print(\"Mi intervalo de confianza para la media es de [{0},{1}]\".\n",
    "      format(media_muestral+Error,media_muestral-Error))"
   ]
  },
  {
   "cell_type": "code",
   "execution_count": 64,
   "id": "d4ee7f62",
   "metadata": {},
   "outputs": [],
   "source": [
    "Intervalo=[]\n",
    "muestra_medias=[]\n",
    "desviacion=Poblacion.std()\n",
    "error=z_critico*(desviacion/n)\n",
    "z_critico=ss.norm.ppf(0.975)\n",
    "for i in range(30):\n",
    "    muestra=np.random.choice(a=Poblacion,size=n)\n",
    "    muestra_medias.append(muestra.mean())\n",
    "    Intervalo_confianza=(muestra.mean()-error,muestra.mean()+error)\n",
    "    Intervalo.append(Intervalo_confianza)\n"
   ]
  },
  {
   "cell_type": "code",
   "execution_count": 66,
   "id": "b1931ef1",
   "metadata": {},
   "outputs": [
    {
     "data": {
      "text/plain": [
       "[(34.26872262234928, 34.57127737765072),\n",
       " (33.898722622349275, 34.20127737765072),\n",
       " (34.758722622349275, 35.06127737765072),\n",
       " (35.27872262234928, 35.58127737765072),\n",
       " (35.30872262234928, 35.61127737765072),\n",
       " (34.66872262234928, 34.97127737765072),\n",
       " (35.15872262234928, 35.461277377650724),\n",
       " (35.49872262234928, 35.80127737765072),\n",
       " (35.77872262234928, 36.08127737765072),\n",
       " (35.648722622349275, 35.95127737765072),\n",
       " (34.48872262234928, 34.79127737765072),\n",
       " (34.97872262234928, 35.281277377650724),\n",
       " (35.41872262234928, 35.72127737765072),\n",
       " (36.01872262234928, 36.32127737765072),\n",
       " (35.468722622349276, 35.77127737765072),\n",
       " (34.538722622349276, 34.84127737765072),\n",
       " (34.41872262234928, 34.72127737765072),\n",
       " (35.84872262234928, 36.15127737765072),\n",
       " (36.04872262234928, 36.351277377650725),\n",
       " (35.468722622349276, 35.77127737765072),\n",
       " (34.90872262234928, 35.211277377650724),\n",
       " (35.40872262234928, 35.711277377650724),\n",
       " (35.16872262234928, 35.47127737765072),\n",
       " (35.58872262234928, 35.891277377650724),\n",
       " (35.01872262234928, 35.32127737765072),\n",
       " (35.38872262234928, 35.69127737765072),\n",
       " (35.33872262234928, 35.641277377650724),\n",
       " (36.22872262234928, 36.531277377650724),\n",
       " (36.92872262234928, 37.23127737765072),\n",
       " (35.40872262234928, 35.711277377650724)]"
      ]
     },
     "execution_count": 66,
     "metadata": {},
     "output_type": "execute_result"
    }
   ],
   "source": [
    "Intervalo"
   ]
  },
  {
   "cell_type": "code",
   "execution_count": 65,
   "id": "f53f1b76",
   "metadata": {},
   "outputs": [
    {
     "data": {
      "image/png": "[encoded data removed]",
      "text/plain": [
       "<Figure size 432x288 with 1 Axes>"
      ]
     },
     "metadata": {
      "needs_background": "light"
     },
     "output_type": "display_data"
    }
   ],
   "source": [
    "plt.errorbar(x=np.arange(0.1,30,1),\n",
    "            y=muestra_medias,\n",
    "            yerr=[(max-min)/2 for max, min in Intervalo],\n",
    "            fmt='o');"
   ]
  },
  {
   "cell_type": "code",
   "execution_count": null,
   "id": "9988260c",
   "metadata": {},
   "outputs": [],
   "source": [
    "### La varianza población es desconocida"
   ]
  },
  {
   "cell_type": "code",
   "execution_count": 72,
   "id": "a5755a57",
   "metadata": {},
   "outputs": [],
   "source": [
    "n=15\n",
    "muestra=np.random.choice(a=Poblacion,size=n)"
   ]
  },
  {
   "cell_type": "code",
   "execution_count": 73,
   "id": "cfd7c4c5",
   "metadata": {},
   "outputs": [],
   "source": [
    "media_muestral=muestra.mean()\n",
    "t_critico=ss.t.ppf(0.975,df=n-1)\n",
    "cuasi_desviacion_muestral=muestra.std(ddof=1)\n"
   ]
  },
  {
   "cell_type": "code",
   "execution_count": 74,
   "id": "64708e6a",
   "metadata": {},
   "outputs": [],
   "source": [
    "intervalo_confianza=(media_muestral-t_critico*cuasi_desviacion_muestral/math.sqrt(n),media_muestral+t_critico*cuasi_desviacion_muestral/math.sqrt(n))"
   ]
  },
  {
   "cell_type": "code",
   "execution_count": 75,
   "id": "099c0687",
   "metadata": {},
   "outputs": [
    {
     "data": {
      "text/plain": [
       "(28.07632478515162, 37.79034188151504)"
      ]
     },
     "execution_count": 75,
     "metadata": {},
     "output_type": "execute_result"
    }
   ],
   "source": [
    "intervalo_confianza"
   ]
  },
  {
   "cell_type": "code",
   "execution_count": 71,
   "id": "da582d10",
   "metadata": {},
   "outputs": [
    {
     "data": {
      "text/plain": [
       "8.241896247523425"
      ]
     },
     "execution_count": 71,
     "metadata": {},
     "output_type": "execute_result"
    }
   ],
   "source": [
    "cuasi_desviacion_muestral"
   ]
  }
 ],
 "metadata": {
  "kernelspec": {
   "display_name": "base",
   "language": "python",
   "name": "python3"
  },
  "language_info": {
   "codemirror_mode": {
    "name": "ipython",
    "version": 3
   },
   "file_extension": ".py",
   "mimetype": "text/x-python",
   "name": "python",
   "nbconvert_exporter": "python",
   "pygments_lexer": "ipython3",
   "version": "3.9.12"
  },
  "vscode": {
   "interpreter": {
    "hash": "93b270aff94e38196a98effae74ed121e7c4be36a010106ff9b6f6d47d6f1709"
   }
  }
 },
 "nbformat": 4,
 "nbformat_minor": 5
}
