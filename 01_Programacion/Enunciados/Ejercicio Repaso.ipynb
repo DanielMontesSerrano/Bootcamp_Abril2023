{
 "cells": [
  {
   "cell_type": "markdown",
   "id": "16a8f1d3",
   "metadata": {},
   "source": [
    "---\n",
    "# Ejercicios de Programación en Python\n",
    "***\n",
    ">~~~\n",
    "Ejercicios de repaso antes del ramp up\n",
    ">~~~\n"
   ]
  },
  {
   "cell_type": "markdown",
   "id": "ea107f45",
   "metadata": {},
   "source": [
    "## Ejercicio 1\n",
    "Crear una función que pregunte al usuario por dos valores y devuelva por pantalla el cociente y el resto de la división."
   ]
  },
  {
   "cell_type": "markdown",
   "id": "3bfe403f",
   "metadata": {},
   "source": [
    "## Ejercicio 2\n",
    "Crear una función que pregunte al usuario por su color favorito y si es *rojo* que muestre por pantalla: \n",
    "\n",
    "**El mío también** \n",
    "\n",
    "y si es otro \n",
    "\n",
    "**No tenemos mismos gustos**"
   ]
  },
  {
   "cell_type": "markdown",
   "id": "9b13eb37",
   "metadata": {},
   "source": [
    "## Ejercicio 3\n",
    "Crear una función donde se resuelva una ecuación de segundo grado.\n",
    "\n",
    "Para ello se deberá preguntar por los coeficientes que acompañan a las incógnitas"
   ]
  },
  {
   "cell_type": "markdown",
   "id": "45fd28ba",
   "metadata": {},
   "source": [
    "## Ejercicio 4\n",
    "Crear una función que calcule muestre por pantalla una cuenta atrás desde un número aleatorio hasta cero. Ese número aleatorio deberá ser inferior a 200."
   ]
  },
  {
   "cell_type": "markdown",
   "id": "4ae615ae",
   "metadata": {},
   "source": [
    "## Ejercicio 5\n",
    "Crear una función donde se genere tres número enteros aleatorio (X,Y,Z) cada uno de ellos comprendido entre 1 y 100.\n",
    "\n",
    "Debe cumplirse que X sea inferior a Y. \n",
    "\n",
    "Se mostrará por pantalla **El valor del número que se busca está entre** (Y-X,Y+Z)"
   ]
  },
  {
   "cell_type": "markdown",
   "id": "ab421d8a",
   "metadata": {},
   "source": [
    "## Ejercicio 6\n",
    "Crear una función donde el usuario introduzca como parámetro una frase y el programa invierta la frase\n",
    "\n",
    ">**Ejemplo**\n",
    ">\n",
    "> Se introduce la frase *El bootcamp me gusta mucho* y se muestre por pantalla *Ohcum atsug em pmactoob le*"
   ]
  },
  {
   "cell_type": "markdown",
   "id": "37f377bd",
   "metadata": {},
   "source": [
    "## Ejercicio 7\n",
    "Crear una función donde el usuario introduzca una array de números y lo ordene de menor a mayor"
   ]
  },
  {
   "cell_type": "markdown",
   "id": "5c5a5ae9",
   "metadata": {},
   "source": [
    "## Ejercicio 8\n",
    "Crear una función donde el usuario introduzca las veces que quiere lanzar un dado y muestre un gráfico de barras de las veces que ha salido los diferentes resultados"
   ]
  },
  {
   "cell_type": "markdown",
   "id": "9d852b1c",
   "metadata": {},
   "source": [
    "## Ejercicio 9\n",
    "Generar 10 series de pandas cada una 1000 registros, crear con ellas un dataframe donde cada una de las columnas se llame\n",
    "*COL_X* donde X es la posición de la columna que ocupa"
   ]
  }
 ],
 "metadata": {
  "kernelspec": {
   "display_name": "Python 3",
   "language": "python",
   "name": "python3"
  },
  "language_info": {
   "codemirror_mode": {
    "name": "ipython",
    "version": 3
   },
   "file_extension": ".py",
   "mimetype": "text/x-python",
   "name": "python",
   "nbconvert_exporter": "python",
   "pygments_lexer": "ipython3",
   "version": "3.8.8"
  }
 },
 "nbformat": 4,
 "nbformat_minor": 5
}
