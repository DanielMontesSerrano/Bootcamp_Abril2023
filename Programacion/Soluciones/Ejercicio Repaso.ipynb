{
 "cells": [
  {
   "attachments": {},
   "cell_type": "markdown",
   "id": "16a8f1d3",
   "metadata": {},
   "source": [
    "---\n",
    "# Ejercicios de Programación en Python\n",
    "***\n",
    ">~~~\n",
    "Ejercicios de repaso antes del ramp up\n",
    ">~~~\n"
   ]
  },
  {
   "attachments": {},
   "cell_type": "markdown",
   "id": "ea107f45",
   "metadata": {},
   "source": [
    "## Ejercicio 1\n",
    "Crear una función que pregunte al usuario por dos valores y devuelva por pantalla el cociente y el resto de la división."
   ]
  },
  {
   "cell_type": "code",
   "execution_count": 4,
   "id": "7726ea39",
   "metadata": {},
   "outputs": [
    {
     "name": "stdout",
     "output_type": "stream",
     "text": [
      "El cociente es 0 y el resto 3\n"
     ]
    }
   ],
   "source": [
    "# a=3\n",
    "# b=5\n",
    "a=int(input(\"Introduzca el valor del dividendo: \"))\n",
    "b=int(input(\"Introduzca el valor del divisor: \"))\n",
    "if b==0:\n",
    "    print(\"Es imposible hacer esa división\")\n",
    "else:\n",
    "    print(\"El cociente es {cociente} y el resto {resto}\".format(cociente=a//b,resto=a%b))\n"
   ]
  },
  {
   "attachments": {},
   "cell_type": "markdown",
   "id": "3bfe403f",
   "metadata": {},
   "source": [
    "## Ejercicio 2\n",
    "Crear una función que pregunte al usuario por su color favorito y si es *rojo* que muestre por pantalla: \n",
    "\n",
    "**El mío también** \n",
    "\n",
    "y si es otro \n",
    "\n",
    "**No tenemos mismos gustos**"
   ]
  },
  {
   "cell_type": "code",
   "execution_count": 7,
   "id": "d8935eb1",
   "metadata": {},
   "outputs": [
    {
     "name": "stdout",
     "output_type": "stream",
     "text": [
      "El mío también\n"
     ]
    }
   ],
   "source": [
    "color=\"RojO\"\n",
    "# color=input(\"Introduzca un color\")\n",
    "if color.lower()==\"rojo\":\n",
    "    print(\"El mío también\")\n",
    "else:\n",
    "    print(\"No tenemos mismos gustos\")"
   ]
  },
  {
   "attachments": {},
   "cell_type": "markdown",
   "id": "9b13eb37",
   "metadata": {},
   "source": [
    "## Ejercicio 3\n",
    "Crear una función donde se resuelva una ecuación de segundo grado.\n",
    "\n",
    "Para ello se deberá preguntar por los coeficientes que acompañan a las incógnitas"
   ]
  },
  {
   "cell_type": "code",
   "execution_count": 9,
   "id": "30bf1a21",
   "metadata": {},
   "outputs": [
    {
     "name": "stdout",
     "output_type": "stream",
     "text": [
      "La ecuación no tiene solución\n"
     ]
    }
   ],
   "source": [
    "a=float(input(\"Introduzca el valor que acompañada a x^2: \"))\n",
    "b=float(input(\"Introduzca el valor que acompañada a x: \"))\n",
    "c=float(input(\"Introduzca el valor del termino independiente: \"))\n",
    "if b**2<4*a*c:\n",
    "    print(\"La ecuación no tiene solución\")\n",
    "elif a==0:\n",
    "    print(\"No es una ecuación de segundo grado\")\n",
    "else:\n",
    "    x1=(-b+(b**2-4*a*c)**(0.5))/(2*a)\n",
    "    x2=(-b-(b**2-4*a*c)**(0.5))/(2*a)\n",
    "    if x1==x2:\n",
    "        print(\"Tenemos una solución doble que es {0}\".format(x1))\n",
    "    else:\n",
    "        print(\"La soluciónes son: x1={0} y x2={1}\".format(x1,x2))"
   ]
  },
  {
   "attachments": {},
   "cell_type": "markdown",
   "id": "d8ab3c92",
   "metadata": {},
   "source": [
    "$\\cfrac{-b \\pm \\sqrt{b^2-4ac}}{2a}$"
   ]
  },
  {
   "attachments": {},
   "cell_type": "markdown",
   "id": "45fd28ba",
   "metadata": {},
   "source": [
    "## Ejercicio 4\n",
    "Crear una función que calcule muestre por pantalla una cuenta atrás desde un número aleatorio hasta cero. Ese número aleatorio deberá ser inferior a 200."
   ]
  },
  {
   "cell_type": "code",
   "execution_count": 15,
   "id": "9761e91e",
   "metadata": {},
   "outputs": [
    {
     "name": "stdout",
     "output_type": "stream",
     "text": [
      "10\n",
      "9\n",
      "8\n",
      "7\n",
      "6\n",
      "5\n",
      "4\n",
      "3\n",
      "2\n",
      "1\n",
      "0\n"
     ]
    }
   ],
   "source": [
    "import numpy as np\n",
    "a=np.random.randint(1,200)\n",
    "for i in range(0,a+1):\n",
    "    print(a-i)"
   ]
  },
  {
   "attachments": {},
   "cell_type": "markdown",
   "id": "4ae615ae",
   "metadata": {},
   "source": [
    "## Ejercicio 5\n",
    "Crear una función donde se genere tres número enteros aleatorio (X,Y,Z) cada uno de ellos comprendido entre 1 y 100.\n",
    "\n",
    "Debe cumplirse que X sea inferior a Y. \n",
    "\n",
    "Se mostrará por pantalla **El valor del número que se busca está entre** (Y-X,Y+Z)"
   ]
  },
  {
   "cell_type": "code",
   "execution_count": 17,
   "id": "b5b08693",
   "metadata": {},
   "outputs": [
    {
     "name": "stdout",
     "output_type": "stream",
     "text": [
      "43 194\n"
     ]
    }
   ],
   "source": [
    "y=np.random.randint(1,101)\n",
    "x=np.random.randint(1,101)\n",
    "z=y=np.random.randint(1,101)\n",
    "while x>y:\n",
    "    y=np.random.randint(1,101)\n",
    "    x=np.random.randint(1,101)\n",
    "print(y-x,y+z)\n"
   ]
  },
  {
   "attachments": {},
   "cell_type": "markdown",
   "id": "ab421d8a",
   "metadata": {},
   "source": [
    "## Ejercicio 6\n",
    "Crear una función donde el usuario introduzca como parámetro una frase y el programa invierta la frase\n",
    "\n",
    ">**Ejemplo**\n",
    ">\n",
    "> Se introduce la frase *El bootcamp me gusta mucho* y se muestre por pantalla *Ohcum atsug em pmactoob le*"
   ]
  },
  {
   "cell_type": "code",
   "execution_count": 35,
   "id": "87535efb",
   "metadata": {},
   "outputs": [],
   "source": [
    "aa=\"El bootcamp me gusta mucho\"\n",
    "aa[-1]\n",
    "palabra=''\n",
    "for i in range(1,len(aa)+1):\n",
    "    if i==1:\n",
    "        palabra+=aa[-i].upper()\n",
    "    else:\n",
    "        palabra+=aa[-i].lower()"
   ]
  },
  {
   "attachments": {},
   "cell_type": "markdown",
   "id": "37f377bd",
   "metadata": {},
   "source": [
    "## Ejercicio 7\n",
    "Crear una función donde el usuario introduzca una array de números y lo ordene de menor a mayor"
   ]
  },
  {
   "cell_type": "code",
   "execution_count": 39,
   "id": "1775f4df",
   "metadata": {},
   "outputs": [
    {
     "name": "stdout",
     "output_type": "stream",
     "text": [
      "[5 7 3]\n"
     ]
    },
    {
     "data": {
      "text/plain": [
       "array([3, 5, 7])"
      ]
     },
     "execution_count": 39,
     "metadata": {},
     "output_type": "execute_result"
    }
   ],
   "source": [
    "a=np.random.randint(1,10,3)\n",
    "print(a)\n",
    "np.sort(a)"
   ]
  },
  {
   "attachments": {},
   "cell_type": "markdown",
   "id": "5c5a5ae9",
   "metadata": {},
   "source": [
    "## Ejercicio 8\n",
    "Crear una función donde el usuario introduzca las veces que quiere lanzar un dado y muestre un gráfico de barras de las veces que ha salido los diferentes resultados"
   ]
  },
  {
   "cell_type": "code",
   "execution_count": 74,
   "id": "669e6adb",
   "metadata": {},
   "outputs": [
    {
     "data": {
      "image/png": "[encoded data removed]",
      "text/plain": [
       "<Figure size 432x288 with 1 Axes>"
      ]
     },
     "metadata": {
      "needs_background": "light"
     },
     "output_type": "display_data"
    }
   ],
   "source": [
    "import matplotlib.pyplot as plt\n",
    "a=10\n",
    "dado=np.random.randint(1,7,a)\n",
    "diccionario={}\n",
    "for i in set(dado):\n",
    "    h=0\n",
    "    for j in dado:\n",
    "        if i==j:\n",
    "            h+=1\n",
    "    diccionario[i]=h\n",
    "plt.bar(list(diccionario.keys()),list(diccionario.values()));\n"
   ]
  },
  {
   "attachments": {},
   "cell_type": "markdown",
   "id": "9d852b1c",
   "metadata": {},
   "source": [
    "## Ejercicio 9\n",
    "Generar 10 series de pandas cada una 1000 registros, crear con ellas un dataframe donde cada una de las columnas se llame\n",
    "*COL_X* donde X es la posición de la columna que ocupa"
   ]
  },
  {
   "cell_type": "code",
   "execution_count": 75,
   "id": "81cb2735",
   "metadata": {},
   "outputs": [],
   "source": [
    "import pandas as pd\n",
    "diccionario={}\n",
    "for i in range(0,10):\n",
    "    diccionario[i]=pd.Series(np.random.randint(0,100,1000))"
   ]
  },
  {
   "cell_type": "code",
   "execution_count": 81,
   "id": "d3c4f516",
   "metadata": {},
   "outputs": [],
   "source": [
    "aa=pd.DataFrame(diccionario)\n",
    "aa.columns=columns=[\"Col_\"+str(i) for i in range(0,10)]"
   ]
  }
 ],
 "metadata": {
  "kernelspec": {
   "display_name": "Python 3",
   "language": "python",
   "name": "python3"
  },
  "language_info": {
   "codemirror_mode": {
    "name": "ipython",
    "version": 3
   },
   "file_extension": ".py",
   "mimetype": "text/x-python",
   "name": "python",
   "nbconvert_exporter": "python",
   "pygments_lexer": "ipython3",
   "version": "3.9.12"
  }
 },
 "nbformat": 4,
 "nbformat_minor": 5
}
