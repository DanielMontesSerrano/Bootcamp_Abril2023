{
 "cells": [
  {
   "cell_type": "code",
   "execution_count": null,
   "id": "085ca042",
   "metadata": {},
   "outputs": [],
   "source": [
    "### Numpy"
   ]
  },
  {
   "cell_type": "code",
   "execution_count": null,
   "id": "99adceb1",
   "metadata": {},
   "outputs": [],
   "source": [
    "import numpy as np"
   ]
  },
  {
   "cell_type": "code",
   "execution_count": null,
   "id": "f07bfec4",
   "metadata": {},
   "outputs": [],
   "source": [
    "np.arange(1,10)"
   ]
  },
  {
   "cell_type": "code",
   "execution_count": null,
   "id": "7a45a304",
   "metadata": {},
   "outputs": [],
   "source": [
    "#pares\n",
    "print(np.arange(0,100,2))\n",
    "#impares\n",
    "print(np.arange(1,100,2))"
   ]
  },
  {
   "cell_type": "code",
   "execution_count": null,
   "id": "2bf15437",
   "metadata": {},
   "outputs": [],
   "source": [
    "np.arange(1,10,2)"
   ]
  },
  {
   "cell_type": "code",
   "execution_count": null,
   "id": "79e0d400",
   "metadata": {},
   "outputs": [],
   "source": [
    "### Le voy a cambiar la forma\n",
    "np.arange(1,12,2).reshape(2,3)"
   ]
  },
  {
   "cell_type": "code",
   "execution_count": null,
   "id": "099c3d75",
   "metadata": {},
   "outputs": [],
   "source": [
    "A=np.arange(1,9).reshape(2,4)"
   ]
  },
  {
   "cell_type": "code",
   "execution_count": null,
   "id": "8e12d28b",
   "metadata": {},
   "outputs": [],
   "source": [
    "A"
   ]
  },
  {
   "cell_type": "code",
   "execution_count": null,
   "id": "6ab5a35b",
   "metadata": {},
   "outputs": [],
   "source": [
    "A.flatten()"
   ]
  },
  {
   "cell_type": "code",
   "execution_count": null,
   "id": "65595d83",
   "metadata": {},
   "outputs": [],
   "source": [
    "A.flat[5]"
   ]
  },
  {
   "cell_type": "code",
   "execution_count": null,
   "id": "03d28ed7",
   "metadata": {},
   "outputs": [],
   "source": [
    "A.ravel()"
   ]
  },
  {
   "cell_type": "code",
   "execution_count": null,
   "id": "9b689301",
   "metadata": {},
   "outputs": [],
   "source": [
    "l=np.array([1,2,3,4,5])"
   ]
  },
  {
   "cell_type": "code",
   "execution_count": null,
   "id": "8f3bdafd",
   "metadata": {},
   "outputs": [],
   "source": [
    "np.append(l,[6,7,8])"
   ]
  },
  {
   "cell_type": "code",
   "execution_count": null,
   "id": "d4eb4749",
   "metadata": {},
   "outputs": [],
   "source": [
    "## [0,1]\n",
    "### vamos a la parte sencilla\n",
    "vacio=list()\n",
    "for i in range(0,101):\n",
    "    vacio.append(i*0.01)"
   ]
  },
  {
   "cell_type": "code",
   "execution_count": null,
   "id": "73b3b13c",
   "metadata": {},
   "outputs": [],
   "source": [
    "vacio"
   ]
  },
  {
   "cell_type": "code",
   "execution_count": null,
   "id": "40343c84",
   "metadata": {},
   "outputs": [],
   "source": [
    "np.linspace(0,1,100)"
   ]
  },
  {
   "cell_type": "code",
   "execution_count": null,
   "id": "b5381c38",
   "metadata": {},
   "outputs": [],
   "source": [
    "len(np.linspace(0,1,100))"
   ]
  },
  {
   "cell_type": "code",
   "execution_count": null,
   "id": "d278c06b",
   "metadata": {},
   "outputs": [],
   "source": [
    "vector=np.arange(1,21,dtype='float')"
   ]
  },
  {
   "cell_type": "code",
   "execution_count": null,
   "id": "a360d9b6",
   "metadata": {},
   "outputs": [],
   "source": [
    "vector"
   ]
  },
  {
   "cell_type": "code",
   "execution_count": null,
   "id": "b79a26de",
   "metadata": {},
   "outputs": [],
   "source": [
    "vector_nuevo=np.insert(vector,1,[1.5])"
   ]
  },
  {
   "cell_type": "code",
   "execution_count": null,
   "id": "fee03d82",
   "metadata": {},
   "outputs": [],
   "source": [
    "vector_nuevo"
   ]
  },
  {
   "cell_type": "code",
   "execution_count": null,
   "id": "9210fdfe",
   "metadata": {},
   "outputs": [],
   "source": [
    "vector_2=np.arange(20,40,dtype=\"float\")"
   ]
  },
  {
   "cell_type": "code",
   "execution_count": null,
   "id": "74a18a16",
   "metadata": {},
   "outputs": [],
   "source": [
    "A1=vector.reshape(4,5)"
   ]
  },
  {
   "cell_type": "code",
   "execution_count": null,
   "id": "b1d96f41",
   "metadata": {},
   "outputs": [],
   "source": [
    "A2=vector_2.reshape(4,5)"
   ]
  },
  {
   "cell_type": "code",
   "execution_count": null,
   "id": "fd8b22c1",
   "metadata": {},
   "outputs": [],
   "source": [
    "A1"
   ]
  },
  {
   "cell_type": "code",
   "execution_count": null,
   "id": "8a39e58c",
   "metadata": {},
   "outputs": [],
   "source": [
    "A2"
   ]
  },
  {
   "cell_type": "code",
   "execution_count": null,
   "id": "d3370b4b",
   "metadata": {},
   "outputs": [],
   "source": [
    "np.concatenate((A1,A2))## Por defecto axis=0"
   ]
  },
  {
   "cell_type": "code",
   "execution_count": null,
   "id": "5a2fc12a",
   "metadata": {},
   "outputs": [],
   "source": [
    "np.concatenate((A1,A2),axis=1)"
   ]
  },
  {
   "cell_type": "code",
   "execution_count": null,
   "id": "38a563d9",
   "metadata": {},
   "outputs": [],
   "source": [
    "#hstack"
   ]
  },
  {
   "cell_type": "code",
   "execution_count": null,
   "id": "6f75a742",
   "metadata": {},
   "outputs": [],
   "source": [
    "np.hstack((A1,A2))"
   ]
  },
  {
   "cell_type": "code",
   "execution_count": null,
   "id": "7941d7d9",
   "metadata": {},
   "outputs": [],
   "source": [
    "np.vstack((A1,A2))"
   ]
  },
  {
   "cell_type": "code",
   "execution_count": null,
   "id": "1f57f5b7",
   "metadata": {},
   "outputs": [],
   "source": [
    "vector_2"
   ]
  },
  {
   "cell_type": "code",
   "execution_count": null,
   "id": "cfe97b0c",
   "metadata": {},
   "outputs": [],
   "source": [
    "np.split(vector_2,4)"
   ]
  },
  {
   "cell_type": "code",
   "execution_count": null,
   "id": "736480c9",
   "metadata": {},
   "outputs": [],
   "source": [
    "np.hsplit(A1,5)"
   ]
  },
  {
   "cell_type": "code",
   "execution_count": null,
   "id": "4def8875",
   "metadata": {},
   "outputs": [],
   "source": [
    "np.vsplit(A1,2)"
   ]
  },
  {
   "cell_type": "code",
   "execution_count": null,
   "id": "6c884572",
   "metadata": {},
   "outputs": [],
   "source": [
    "A1"
   ]
  },
  {
   "cell_type": "code",
   "execution_count": null,
   "id": "6f50cecf",
   "metadata": {},
   "outputs": [],
   "source": [
    "np.amin(A1)"
   ]
  },
  {
   "cell_type": "code",
   "execution_count": null,
   "id": "3aebdf6a",
   "metadata": {},
   "outputs": [],
   "source": [
    "np.amax(A1)"
   ]
  },
  {
   "cell_type": "code",
   "execution_count": null,
   "id": "532a8a6c",
   "metadata": {},
   "outputs": [],
   "source": [
    "np.amax(np.amin(A1,axis=0))"
   ]
  },
  {
   "cell_type": "code",
   "execution_count": null,
   "id": "b418a882",
   "metadata": {},
   "outputs": [],
   "source": [
    "np.amin(A1,axis=1)"
   ]
  },
  {
   "cell_type": "code",
   "execution_count": null,
   "id": "78530ea1",
   "metadata": {},
   "outputs": [],
   "source": [
    "np.amax(A1,axis=0)"
   ]
  },
  {
   "cell_type": "code",
   "execution_count": null,
   "id": "1e9c0357",
   "metadata": {},
   "outputs": [],
   "source": [
    "np.amax(A1,axis=1)"
   ]
  },
  {
   "cell_type": "code",
   "execution_count": null,
   "id": "77c07085",
   "metadata": {},
   "outputs": [],
   "source": [
    "np.random.randint(1,10)"
   ]
  },
  {
   "cell_type": "code",
   "execution_count": null,
   "id": "b9793213",
   "metadata": {},
   "outputs": [],
   "source": [
    "### generar una matriz con números enteros aleatorios entre el 1 y el 9.\n",
    "### el tamaño de la matriz debe ser de 10x8"
   ]
  },
  {
   "cell_type": "code",
   "execution_count": null,
   "id": "26c20cfe",
   "metadata": {},
   "outputs": [],
   "source": []
  },
  {
   "cell_type": "code",
   "execution_count": null,
   "id": "b12afbd8",
   "metadata": {},
   "outputs": [],
   "source": [
    "a=np.array([1,2,3])"
   ]
  },
  {
   "cell_type": "code",
   "execution_count": null,
   "id": "e27f1acf",
   "metadata": {},
   "outputs": [],
   "source": [
    "np.mean(a)"
   ]
  },
  {
   "cell_type": "code",
   "execution_count": null,
   "id": "6b04fe57",
   "metadata": {},
   "outputs": [],
   "source": [
    "np.average(a)"
   ]
  },
  {
   "cell_type": "code",
   "execution_count": null,
   "id": "67f094a3",
   "metadata": {},
   "outputs": [],
   "source": [
    "pesos=np.array([1,3,6])"
   ]
  },
  {
   "cell_type": "code",
   "execution_count": null,
   "id": "8c9874fc",
   "metadata": {},
   "outputs": [],
   "source": [
    "np.average(a,weights=pesos)"
   ]
  },
  {
   "cell_type": "code",
   "execution_count": null,
   "id": "ec9b22f1",
   "metadata": {},
   "outputs": [],
   "source": [
    "np.mean(np.array([1,2,2,2,3,3,3,3,3,3]))"
   ]
  },
  {
   "cell_type": "code",
   "execution_count": null,
   "id": "bcaecbe2",
   "metadata": {},
   "outputs": [],
   "source": [
    "np.median([1,3,6])"
   ]
  },
  {
   "cell_type": "code",
   "execution_count": null,
   "id": "b0e03dc5",
   "metadata": {},
   "outputs": [],
   "source": [
    "np.mode(np.array([1,2,2,2,3,3,3,3,3,3]))"
   ]
  },
  {
   "cell_type": "code",
   "execution_count": null,
   "id": "57ef8c77",
   "metadata": {},
   "outputs": [],
   "source": [
    "## Varianza\n",
    "np.var(np.array([1,2,2,2,3,3,3,3,3,3]))"
   ]
  },
  {
   "cell_type": "code",
   "execution_count": null,
   "id": "65286297",
   "metadata": {},
   "outputs": [],
   "source": [
    "###\n",
    "np.std(np.array([1,2,2,2,3,3,3,3,3,3]))"
   ]
  },
  {
   "cell_type": "code",
   "execution_count": null,
   "id": "6b85a11e",
   "metadata": {},
   "outputs": [],
   "source": [
    "np.percentile(np.array([1,2,2,2,3,3,3,3,3,3]),25)"
   ]
  },
  {
   "cell_type": "code",
   "execution_count": null,
   "id": "fc3b3c86",
   "metadata": {},
   "outputs": [],
   "source": [
    "np.percentile(np.array([1,2,2,2,3,3,3,3,3,3]),75)"
   ]
  },
  {
   "cell_type": "code",
   "execution_count": null,
   "id": "b2619e6f",
   "metadata": {},
   "outputs": [],
   "source": [
    "np.percentile(np.array([1,2,2,2,3,3,3,3,3,3]),10)"
   ]
  },
  {
   "cell_type": "code",
   "execution_count": null,
   "id": "c8d1e0d0",
   "metadata": {},
   "outputs": [],
   "source": [
    "np.percentile(np.array([1,2,2,2,3,3,3,3,3,3]),50)"
   ]
  },
  {
   "cell_type": "code",
   "execution_count": null,
   "id": "26deee5c",
   "metadata": {},
   "outputs": [],
   "source": [
    "np.array([1,2,2,2,3,3,3,3,3,3]).reshape(5,2)"
   ]
  },
  {
   "cell_type": "code",
   "execution_count": null,
   "id": "b89e8655",
   "metadata": {},
   "outputs": [],
   "source": [
    "np.percentile(np.array([1,2,2,2,3,3,3,3,3,3]).reshape(5,2),25,axis=1)"
   ]
  },
  {
   "cell_type": "code",
   "execution_count": null,
   "id": "c121d4ff",
   "metadata": {},
   "outputs": [],
   "source": [
    "np.percentile(np.array([1,2,2,2,3,3,3,3,3,3]).reshape(5,2),25,axis=0)"
   ]
  },
  {
   "cell_type": "code",
   "execution_count": null,
   "id": "9a9aec9b",
   "metadata": {},
   "outputs": [],
   "source": [
    "### potencia\n",
    "#2**2\n",
    "np.power(2,2)"
   ]
  },
  {
   "cell_type": "code",
   "execution_count": null,
   "id": "b40991e9",
   "metadata": {},
   "outputs": [],
   "source": [
    "np.power(3,4)"
   ]
  },
  {
   "cell_type": "code",
   "execution_count": null,
   "id": "eaae3aed",
   "metadata": {},
   "outputs": [],
   "source": [
    "np.power(144,1/2)"
   ]
  },
  {
   "cell_type": "code",
   "execution_count": null,
   "id": "e2dd17d6",
   "metadata": {},
   "outputs": [],
   "source": [
    "A1"
   ]
  },
  {
   "cell_type": "code",
   "execution_count": null,
   "id": "cb261194",
   "metadata": {},
   "outputs": [],
   "source": [
    "np.power(A1,2)"
   ]
  },
  {
   "cell_type": "code",
   "execution_count": null,
   "id": "73be8aaf",
   "metadata": {},
   "outputs": [],
   "source": [
    "A1@A1"
   ]
  },
  {
   "cell_type": "code",
   "execution_count": null,
   "id": "cb5bf5d7",
   "metadata": {},
   "outputs": [],
   "source": [
    "A3=np.random.randint(1,100,(5,5))"
   ]
  },
  {
   "cell_type": "code",
   "execution_count": null,
   "id": "a042e684",
   "metadata": {},
   "outputs": [],
   "source": [
    "A3"
   ]
  },
  {
   "cell_type": "code",
   "execution_count": null,
   "id": "1ecd9d9b",
   "metadata": {},
   "outputs": [],
   "source": [
    "A3@A3"
   ]
  },
  {
   "cell_type": "code",
   "execution_count": null,
   "id": "0880c10f",
   "metadata": {},
   "outputs": [],
   "source": [
    "mode(np.array([1,2,2,2,3,3,3,3,3,3]))"
   ]
  },
  {
   "cell_type": "code",
   "execution_count": null,
   "id": "1292aec5",
   "metadata": {},
   "outputs": [],
   "source": [
    "np.array([1,2,2,2,3,3,3])"
   ]
  },
  {
   "cell_type": "code",
   "execution_count": null,
   "id": "eb2a36e4",
   "metadata": {},
   "outputs": [],
   "source": [
    "A3"
   ]
  },
  {
   "cell_type": "code",
   "execution_count": null,
   "id": "3e950b72",
   "metadata": {},
   "outputs": [],
   "source": [
    "np.sort(A3)"
   ]
  },
  {
   "cell_type": "code",
   "execution_count": null,
   "id": "b2ccc164",
   "metadata": {},
   "outputs": [],
   "source": [
    "np.sort(A3,axis=None)"
   ]
  },
  {
   "cell_type": "code",
   "execution_count": null,
   "id": "c644f071",
   "metadata": {},
   "outputs": [],
   "source": [
    "np.sort(A3,axis=None).reshape(5,5)"
   ]
  },
  {
   "cell_type": "code",
   "execution_count": null,
   "id": "95616df1",
   "metadata": {},
   "outputs": [],
   "source": [
    "A3.shape"
   ]
  },
  {
   "cell_type": "code",
   "execution_count": null,
   "id": "7b144b98",
   "metadata": {},
   "outputs": [],
   "source": [
    "np.sort(A3,axis=None).reshape(A3.shape[0],A3.shape[1])"
   ]
  },
  {
   "cell_type": "code",
   "execution_count": null,
   "id": "6c580e31",
   "metadata": {},
   "outputs": [],
   "source": [
    "np.sort(A3,axis=0)"
   ]
  },
  {
   "cell_type": "code",
   "execution_count": null,
   "id": "e35e684c",
   "metadata": {},
   "outputs": [],
   "source": [
    "def velocidad(Espacio,Tiempo):\n",
    "    return Espacio/Tiempo"
   ]
  },
  {
   "cell_type": "code",
   "execution_count": null,
   "id": "73c58c0f",
   "metadata": {},
   "outputs": [],
   "source": [
    "tiempo=np.arange(1,120)"
   ]
  },
  {
   "cell_type": "code",
   "execution_count": null,
   "id": "b6fe2a89",
   "metadata": {},
   "outputs": [],
   "source": [
    "espacio=100"
   ]
  },
  {
   "cell_type": "code",
   "execution_count": null,
   "id": "47f5e075",
   "metadata": {},
   "outputs": [],
   "source": [
    "velocidad(espacio,tiempo)"
   ]
  },
  {
   "cell_type": "code",
   "execution_count": null,
   "id": "f8f3fd8e",
   "metadata": {},
   "outputs": [],
   "source": [
    "## Sucecion"
   ]
  },
  {
   "attachments": {},
   "cell_type": "markdown",
   "id": "86f58a07",
   "metadata": {},
   "source": [
    "$\\sum_{i=1}^n \\cfrac{1}{i}$"
   ]
  },
  {
   "cell_type": "code",
   "execution_count": null,
   "id": "5b3b2297",
   "metadata": {},
   "outputs": [],
   "source": [
    "n=10\n",
    "t=np.arange(1,n+1)"
   ]
  },
  {
   "cell_type": "code",
   "execution_count": null,
   "id": "9250f2ce",
   "metadata": {},
   "outputs": [],
   "source": [
    "t"
   ]
  },
  {
   "cell_type": "code",
   "execution_count": null,
   "id": "aba17353",
   "metadata": {},
   "outputs": [],
   "source": [
    "S=0\n",
    "for k in t:\n",
    "    S+=1.0/k"
   ]
  },
  {
   "cell_type": "code",
   "execution_count": null,
   "id": "9496fbe0",
   "metadata": {},
   "outputs": [],
   "source": [
    "S"
   ]
  },
  {
   "cell_type": "code",
   "execution_count": null,
   "id": "d665ce9a",
   "metadata": {},
   "outputs": [],
   "source": [
    "### Matplotlib\n",
    "import matplotlib.pyplot as plt"
   ]
  },
  {
   "cell_type": "code",
   "execution_count": null,
   "id": "4f191a14",
   "metadata": {},
   "outputs": [],
   "source": [
    "S=0\n",
    "y=np.zeros(len(t)+1)\n",
    "for k in t:\n",
    "    S+=1.0/k\n",
    "    y[k]=S"
   ]
  },
  {
   "cell_type": "code",
   "execution_count": null,
   "id": "47b7425a",
   "metadata": {},
   "outputs": [],
   "source": [
    "t"
   ]
  },
  {
   "cell_type": "code",
   "execution_count": null,
   "id": "175b5bf2",
   "metadata": {},
   "outputs": [],
   "source": [
    "y"
   ]
  },
  {
   "cell_type": "code",
   "execution_count": null,
   "id": "e63db0df",
   "metadata": {},
   "outputs": [],
   "source": [
    "plt.plot(t,y[:len(y)-1])"
   ]
  },
  {
   "cell_type": "code",
   "execution_count": null,
   "id": "1fa5625f",
   "metadata": {},
   "outputs": [],
   "source": [
    "plt.plot(t,y[:len(y)-1])\n",
    "plt.xlabel('t')\n",
    "plt.ylabel('y');"
   ]
  },
  {
   "cell_type": "code",
   "execution_count": null,
   "id": "a8ac8be6",
   "metadata": {},
   "outputs": [],
   "source": [
    "plt.plot(t,y[:len(y)-1])\n",
    "plt.xlabel('t')\n",
    "plt.ylabel('y')\n",
    "plt.grid();"
   ]
  },
  {
   "cell_type": "code",
   "execution_count": null,
   "id": "c2b882b4",
   "metadata": {},
   "outputs": [],
   "source": [
    "x=np.arange(1,10)"
   ]
  },
  {
   "cell_type": "code",
   "execution_count": null,
   "id": "0eb014a0",
   "metadata": {},
   "outputs": [],
   "source": [
    "y=np.arange(21,30)"
   ]
  },
  {
   "cell_type": "code",
   "execution_count": null,
   "id": "b3519e07",
   "metadata": {},
   "outputs": [],
   "source": [
    "plt.plot(x,y,'r+')\n",
    "plt.hlines(np.mean(y),xmin=1,xmax=10)\n",
    "plt.vlines(np.mean(x),ymin=21,ymax=30)\n",
    "plt.grid()\n",
    "plt.xlabel(\"Jornadas\")\n",
    "plt.ylabel(\"Puntos\");"
   ]
  },
  {
   "cell_type": "code",
   "execution_count": null,
   "id": "0020af81",
   "metadata": {},
   "outputs": [],
   "source": []
  },
  {
   "cell_type": "code",
   "execution_count": null,
   "id": "1dd9210f",
   "metadata": {},
   "outputs": [],
   "source": [
    "import numpy as np"
   ]
  },
  {
   "cell_type": "code",
   "execution_count": null,
   "id": "70bb5afe",
   "metadata": {},
   "outputs": [],
   "source": [
    "import datetime as dt"
   ]
  },
  {
   "cell_type": "code",
   "execution_count": null,
   "id": "4af2c697",
   "metadata": {},
   "outputs": [],
   "source": [
    "comienzo=dt.datetime(2020,1,1)"
   ]
  },
  {
   "cell_type": "code",
   "execution_count": null,
   "id": "8684598b",
   "metadata": {},
   "outputs": [],
   "source": [
    "final=dt.datetime(2023,5,13)\n"
   ]
  },
  {
   "cell_type": "code",
   "execution_count": null,
   "id": "73cd2b07",
   "metadata": {},
   "outputs": [],
   "source": [
    "dt.date.today()"
   ]
  },
  {
   "cell_type": "code",
   "execution_count": null,
   "id": "d91f08a5",
   "metadata": {},
   "outputs": [],
   "source": [
    "dt.datetime.now()"
   ]
  },
  {
   "cell_type": "code",
   "execution_count": null,
   "id": "efba6659",
   "metadata": {},
   "outputs": [],
   "source": [
    "dt.datetime.now().year"
   ]
  },
  {
   "cell_type": "code",
   "execution_count": null,
   "id": "903f2277",
   "metadata": {},
   "outputs": [],
   "source": [
    "dt.datetime.now().month"
   ]
  },
  {
   "cell_type": "code",
   "execution_count": null,
   "id": "55027aa8",
   "metadata": {},
   "outputs": [],
   "source": [
    "## día de la semana\n",
    "dt.datetime.now().weekday()"
   ]
  },
  {
   "cell_type": "code",
   "execution_count": null,
   "id": "11202684",
   "metadata": {},
   "outputs": [],
   "source": [
    "dt.datetime.now().strftime('%Y%m%d')"
   ]
  },
  {
   "cell_type": "code",
   "execution_count": null,
   "id": "fccc485e",
   "metadata": {},
   "outputs": [],
   "source": [
    "dt.datetime.now().strftime('%Y-%m-%d')"
   ]
  },
  {
   "cell_type": "code",
   "execution_count": null,
   "id": "632d4d21",
   "metadata": {},
   "outputs": [],
   "source": [
    "dt.datetime.now().strftime('%Y/%m/%d')"
   ]
  },
  {
   "cell_type": "code",
   "execution_count": null,
   "id": "0c641a4b",
   "metadata": {},
   "outputs": [],
   "source": [
    "dt.datetime.now().strftime('%d/%m/%Y')"
   ]
  },
  {
   "attachments": {},
   "cell_type": "markdown",
   "id": "78fe0a6f",
   "metadata": {},
   "source": [
    "Y $\\to$ Año completo\n",
    "m $\\to$ Mes\n",
    "d $\\to$ Día\n",
    "H $\\to$ Hora\n",
    "M $\\to$ minutos"
   ]
  },
  {
   "cell_type": "code",
   "execution_count": null,
   "id": "85a01a65",
   "metadata": {},
   "outputs": [],
   "source": [
    "dt.datetime.now().strftime('%A')"
   ]
  },
  {
   "cell_type": "code",
   "execution_count": null,
   "id": "501f0c69",
   "metadata": {},
   "outputs": [],
   "source": [
    "dt.datetime.now().strftime('%B')"
   ]
  },
  {
   "cell_type": "code",
   "execution_count": null,
   "id": "86f9c067",
   "metadata": {},
   "outputs": [],
   "source": []
  },
  {
   "cell_type": "code",
   "execution_count": null,
   "id": "fb685825",
   "metadata": {},
   "outputs": [],
   "source": [
    "Mfrom matplotlib.dates import drange\n",
    "a=drange(comienzo,final,dt.timedelta(days=1))"
   ]
  },
  {
   "cell_type": "code",
   "execution_count": null,
   "id": "b6f1cf46",
   "metadata": {},
   "outputs": [],
   "source": [
    "Hoy=dt.datetime.today()\n",
    "manyana=Hoy+dt.timedelta(days=1)"
   ]
  },
  {
   "cell_type": "code",
   "execution_count": null,
   "id": "56887e92",
   "metadata": {},
   "outputs": [],
   "source": [
    "manyana"
   ]
  },
  {
   "cell_type": "code",
   "execution_count": null,
   "id": "138740ff",
   "metadata": {},
   "outputs": [],
   "source": [
    "Hoy+dt.timedelta(days=7)"
   ]
  },
  {
   "cell_type": "code",
   "execution_count": null,
   "id": "3b720193",
   "metadata": {},
   "outputs": [],
   "source": [
    "Hoy+dt.timedelta(days=-1)"
   ]
  },
  {
   "cell_type": "code",
   "execution_count": null,
   "id": "7d4a4a33",
   "metadata": {},
   "outputs": [],
   "source": []
  }
 ],
 "metadata": {
  "kernelspec": {
   "display_name": "Python 3",
   "language": "python",
   "name": "python3"
  },
  "language_info": {
   "codemirror_mode": {
    "name": "ipython",
    "version": 3
   },
   "file_extension": ".py",
   "mimetype": "text/x-python",
   "name": "python",
   "nbconvert_exporter": "python",
   "pygments_lexer": "ipython3",
   "version": "3.9.12"
  }
 },
 "nbformat": 4,
 "nbformat_minor": 5
}
