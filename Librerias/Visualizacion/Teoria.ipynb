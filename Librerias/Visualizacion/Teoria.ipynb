{
 "cells": [
  {
   "attachments": {},
   "cell_type": "markdown",
   "metadata": {},
   "source": [
    "# Visualización Básica\n",
    "\n",
    "La representación gráfica o visualización de los datos es importante para cualquier análisis de datos y se debería realizar antes de aplicar cualquier prueba estadística o construcción de modelos.\n",
    "\n",
    "La visualización gráfica de datos constituye una disciplina propia dentro del universo de la ciencia de datos.\n",
    "\n",
    "En la ciencia de datos existen muchos tipos diferentes de datos para analizar. Una forma de clasificación de los datos atiende al nivel de estructuración lógica que éstos tienen. \n",
    "\n",
    "En el caso de los datos estructurados, su representación gráfica es necesaria en todas las etapas del proceso de análisis, desde la etapa exploratoria, hasta la presentación final de resultados."
   ]
  },
  {
   "attachments": {},
   "cell_type": "markdown",
   "metadata": {},
   "source": [
    "## Gráficos Basicos con Pandas"
   ]
  },
  {
   "attachments": {},
   "cell_type": "markdown",
   "metadata": {},
   "source": [
    "Os dejo este enlace para que os pueda ayudar a decidir que tipo de [gráfico](http://labs.juiceanalytics.com/chartchooser/index.html) es mejor emplear en cada momento.\n",
    "\n",
    "\n",
    "Pandas usa [matplotlib](https://matplotlib.org/) como [backend](es.wikipedia.org/wiki/Front_end_y_back_end). La [documentación](https://pandas.pydata.org/pandas-docs/stable/visualization.html) de visualización de Pandas"
   ]
  },
  {
   "cell_type": "code",
   "execution_count": 2,
   "metadata": {},
   "outputs": [],
   "source": [
    "import matplotlib.pyplot as plt"
   ]
  },
  {
   "cell_type": "code",
   "execution_count": 4,
   "metadata": {},
   "outputs": [
    {
     "data": {
      "image/png": "[encoded data removed]",
      "text/plain": [
       "<Figure size 432x288 with 1 Axes>"
      ]
     },
     "metadata": {
      "needs_background": "light"
     },
     "output_type": "display_data"
    }
   ],
   "source": [
    "## Gráfico de una secuencia de valores\n",
    "plt.plot([1,0.25,0.5,2,3,3.75,3.2]);"
   ]
  },
  {
   "attachments": {},
   "cell_type": "markdown",
   "metadata": {},
   "source": [
    "Aunque puedan parecer simples, son numerosos los elementos que componen ungráfico o diagrama de Matplotlib. Todos estos elementos pueden ser manipulados y modificados independientemente. Por lo tanto, es útil estar familiarizado con la terminología de Matplotlib.\n",
    "\n",
    "Asociados a estos elementos, como ticks, leyendas, etiquetas, etc.\n",
    "\n",
    "* **Ejes** Un eje está definido por la clase `matplotlib.axes.Axes`. Es usado para\n",
    "mantener la mayoría de los elementos de una figura, como puede ser, los ejes X e Y, los ticks,\n",
    "los gráficos de líneas, cualquier texto y cualquier forma de polígono.\n",
    "\n",
    "* **Título** Este es el título de todo el gráfico .\n",
    "\n",
    "* **Ticks**  Los Ticks están representados por la clase `matplotlib.axis.Tick` Un Tick es la marca en el Eje que indica un nuevo valor. Puede haber marcas principales que son más grandes y pueden estar etiquetadas. Hay también Ticks menores que pueden ser más pequeñas (y también pueden estar etiquetadas).\n",
    "\n",
    "* **Etiquetas de Tick** Esta es una etiqueta en un Tick.\n",
    "\n",
    "* **Axis** La clase `maplotlib.axis.Axis` define un objeto Axis (como un objeto X\n",
    "o eje Y) dentro de una instancia principal de Axes. Puede tener formateadores utilizados para formatear\n",
    "las etiquetas utilizadas para las marcas principales y secundarias. También es posible configurar el\n",
    "ubicaciones de las marcas principales y secundarias.\n",
    "\n",
    "* **Etiquetas** de eje (X, Y y, en algunos casos, Z) Estas son etiquetas utilizadas para describir el\n",
    "Eje.\n",
    "\n",
    "* **Tipos de gráficos**, como gráficos de líneas y de dispersión. Varios tipos de parcelas y gráficos son\n",
    "compatible con Matplotlib, incluidos diagramas de líneas, gráficos de dispersión, gráficos de barras y circulares\n",
    "\n",
    "* **Cuadrícula** Esta es una cuadrícula opcional que se muestra detrás de un diagrama o gráfico. La cuadrícula\n",
    "se puede mostrar con una variedad de diferentes estilos de línea (como sólida o discontinua), colores y anchos de línea."
   ]
  },
  {
   "attachments": {},
   "cell_type": "markdown",
   "metadata": {},
   "source": [
    "A continuación, se crean dos listas de valores para las coordenadas x e y.\n",
    "\n",
    "El gráfico en sí se configura luego con etiquetas proporcionadas para los ejes de x e y (usando las funciones pyplot xlabel() e ylabel()). \n",
    "\n",
    "El título del gráfico se establece (nuevamente usando una función pyplot).\n",
    "Después de esto, los valores de x e y se trazan como un gráfico de líneas en el gráfico. Usando la función pyplot.plot(). Esta función puede tomar una amplia gama de parámetros, siendo los únicos parámetros obligatorios los datos utilizados para definir la gráfica. \n",
    "\n",
    "En el ejemplo se proporcionará un tercer parámetro; esta es el string *'bo-'*.\n",
    "Este string de formato codificado en la que cada elemento del string es significativo para elfunción pyplot.plot()\n",
    "*  **b** Esto indica el colo de la línea que se quiere dibujar; en el caso de la letra `b` indica el color azul.\n",
    "\n",
    "<div align=\"center\">\n",
    "\n",
    "|Letra|Color|\n",
    "|---|---|\n",
    "|‘b’| Azul |\n",
    "|‘g’| Verde |\n",
    "|‘r’| Rojo |\n",
    "|‘c’| Cian |\n",
    "|‘m’| Magenta |\n",
    "|‘y’| Amarillo |\n",
    "|‘k’| Negro |\n",
    "|‘w’| Blanco |\n",
    "</div>\n",
    "\n",
    "* **o** Esto indica cada marca (cada uno de los puntos dibujados) se deberán representar por círculos. La línea de unión entre las marcas serán creadas después\n",
    "\n",
    "<div align=\"center\">\n",
    "\n",
    "|Caracter|Descripción|\n",
    "|---|---|\n",
    "|‘.’ | Marcador de puntos|\n",
    "|‘,’ | Marcador de pixel |\n",
    "|‘o’ | Marcador de círculos\n",
    "|‘v’ | Marcador de triangulo hacia abajo  |\n",
    "|‘^’ | Marcador de triangulo hacia arriba | \n",
    "|‘ < ’ |Marcador de triangulo hacia la izquierda | \n",
    "|‘ > ’| Marcador de triangulo hacia la derecha |\n",
    "|‘s’ | Marcador de cuadrado | \n",
    "|‘p’ | Marcador de pentagono | \n",
    "|‘*’ | Marcador de estrella | \n",
    "|‘h’ | Marcador de hexagono | \n",
    "|‘ + ’|  Marcador de cruz |\n",
    "|‘x’ | Marcador de x |\n",
    "|‘D’ | Marcador de diamantes |\n",
    "</div>\n",
    "\n",
    "\n",
    "\n",
    "* **‘–’** Este indicador usa el estilo de la línea. Un simple guión ``‘-’`` indica una línea continua,\n",
    "un doble guión  ``(‘-–’)`` indica ina línea discontinua.\n",
    "\n",
    "<div align=\"center\">\n",
    "\n",
    "|Caracter|Descripción|\n",
    "|---|---|\n",
    "|‘-’ |Línea Continua|\n",
    "|‘--’ |Línea Discontinua|\n",
    "|‘-.’|Línea guión punto|\n",
    "|‘:’ |Línea Punteada|\n",
    "</div>\n"
   ]
  },
  {
   "cell_type": "code",
   "execution_count": 10,
   "metadata": {},
   "outputs": [
    {
     "data": {
      "image/png": "[encoded data removed]",
      "text/plain": [
       "<Figure size 432x288 with 1 Axes>"
      ]
     },
     "metadata": {
      "needs_background": "light"
     },
     "output_type": "display_data"
    }
   ],
   "source": [
    "##\n",
    "x=[0,1,2,3,4,5,6]\n",
    "y=[0,2,6,14,25,43,75]\n",
    "plt.xlabel('Tiempo',fontsize=12)\n",
    "plt.ylabel('Velocidad',fontsize=12)\n",
    "plt.title('Tiempo vs Velocidad')\n",
    "# Usar círculos azules como marcadores ('bo')\n",
    "# Usar una línea solida ('-')\n",
    "plt.plot(x,y,'bo-')\n",
    "plt.show()"
   ]
  },
  {
   "attachments": {},
   "cell_type": "markdown",
   "metadata": {},
   "source": [
    "### Ejercicio \n",
    "Cree dos listas con números aleatorios y pracrtique con las descripciones"
   ]
  },
  {
   "attachments": {},
   "cell_type": "markdown",
   "metadata": {},
   "source": [
    "## Diagrama de Dipersión"
   ]
  },
  {
   "attachments": {},
   "cell_type": "markdown",
   "metadata": {},
   "source": [
    "Un gráfico de dispersión o diagrama de dispersión es un tipo de diagrama en el que se indican los valores individuales\n",
    "usando coordenadas cartesianas (o x e y) para mostrar valores. Cada valor se indica\n",
    "mediante una marca (como un círculo o un triángulo) en el gráfico. Se pueden usar para representar valores obtenidos para dos variables diferentes; uno trazado en el eje x y el otro trazado en el eje y."
   ]
  },
  {
   "cell_type": "code",
   "execution_count": 16,
   "metadata": {},
   "outputs": [
    {
     "data": {
      "image/png": "[encoded data removed]",
      "text/plain": [
       "<Figure size 432x288 with 1 Axes>"
      ]
     },
     "metadata": {
      "needs_background": "light"
     },
     "output_type": "display_data"
    }
   ],
   "source": [
    "# Crearemos los datos\n",
    "## Haremos numero de ejercicios que realiza un alumno y horas practicando la materia del curso\n",
    "python = ((17, 18, 21, 22, 19, 21, 25, 22, 25, 24),\n",
    "(3, 6, 3.5, 4, 5, 6.3, 4.5, 5, 4.5, 4))\n",
    "sql = ((17, 18, 20, 19, 22, 21, 23, 19, 21, 24),\n",
    "(8, 9, 7, 10, 7.5, 9, 8, 7, 8.5, 9))\n",
    "matematicas = ((31, 28, 29, 36, 27, 32, 34, 35, 33, 39),\n",
    "(4, 6.3, 6, 3, 5, 7.5, 2, 5, 7, 4))\n",
    "# Representamos los datos\n",
    "plt.scatter(x=python[0], y=python[1], c='red', marker='o',\n",
    "label='python')\n",
    "plt.scatter(x=sql[0], y=sql[1], c='green',\n",
    "marker='^', label='sql')\n",
    "plt.scatter(x=matematicas[0], y=matematicas[1], c='blue',\n",
    "marker='*', label='matematicas')\n",
    "#configuración del gráfico\n",
    "plt.xlabel('Ejercicios')\n",
    "plt.ylabel('Horas')\n",
    "plt.title('Diagrama de Dispersión de Ejercicios')\n",
    "plt.legend()\n",
    "plt.show();"
   ]
  },
  {
   "attachments": {},
   "cell_type": "markdown",
   "metadata": {},
   "source": [
    "### ¿Siempre se debe usar un diagrama de dispersión?\n",
    "El diagrama de dispersión permite estudiar las relaciones entre dos conjuntos asociados de datos que aparecen en pares (por ejemplo, (x,y), uno de cada conjunto). El diagrama muestra estos pares como una nube de puntos.\n",
    "\n",
    "Las relaciones entre los conjuntos asociados de datos se infieren a partir de la forma de las nubes.\n",
    "\n",
    "* Una relación positiva entre x y y significa que los valores crecientes de x están asociados con los valores crecientes de y.\n",
    "* Una relación negativa significa que los valores crecientes de x están asociados con los valores decrecientes de y. \n",
    "\n",
    "Para facilitar esa relación o tendencia se utilizará de la librería de ```numpy``` la función ```polyfit()```."
   ]
  },
  {
   "cell_type": "code",
   "execution_count": 17,
   "metadata": {},
   "outputs": [
    {
     "data": {
      "image/png": "[encoded data removed]",
      "text/plain": [
       "<Figure size 432x288 with 1 Axes>"
      ]
     },
     "metadata": {
      "needs_background": "light"
     },
     "output_type": "display_data"
    }
   ],
   "source": [
    "import numpy as np\n",
    "x = (5, 5.5, 6, 6.5, 7, 8, 9, 10)\n",
    "y = (120, 115, 100, 112, 80, 85, 69, 65)\n",
    "# Generamos el diagrama de dispersión\n",
    "plt.scatter(x, y)\n",
    "# Generamos la línea de tendencia\n",
    "z = np.polyfit(x, y, 1)\n",
    "p = np.poly1d(z)\n",
    "plt.plot(x, p(x), 'r')\n",
    "# Mostramos el gráfico\n",
    "plt.show()"
   ]
  },
  {
   "attachments": {},
   "cell_type": "markdown",
   "metadata": {},
   "source": [
    "## Diagrama de Sectores"
   ]
  },
  {
   "attachments": {},
   "cell_type": "markdown",
   "metadata": {},
   "source": [
    "Un diagrama de sectores (más comúnmente conocido como diagrama de tarta) es un círculo se divide en sectores donde cada uno representa una proporción del todo. Un sector del círculo representa una contribución de la categoría al total general. Como tal, el gráfico se asemeja a un pastel que se ha cortado en rodajas de diferentes tamaños.\n",
    "Por lo general, los diferentes sectores del gráfico circular se presentan en diferentes colores y están dispuestos en el sentido de las agujas del reloj alrededor del gráfico en orden de magnitud. Sin embargo, si hay una porción que no contiene una categoría única de datos pero resume\n",
    "varios, por ejemplo, \"otros tipos\" u \"otras respuestas\", incluso si no es el categoría más pequeña, es habitual mostrarlo en último lugar para que no desmerezca las categorías de interés nombradas."
   ]
  },
  {
   "cell_type": "code",
   "execution_count": 9,
   "metadata": {},
   "outputs": [
    {
     "data": {
      "image/png": "[encoded data removed]",
      "text/plain": [
       "<Figure size 432x288 with 1 Axes>"
      ]
     },
     "metadata": {},
     "output_type": "display_data"
    }
   ],
   "source": [
    "import matplotlib.pyplot as plt\n",
    "labels = ('Python', 'PBI', 'SQL', 'Tableau')\n",
    "Porcentajes = [45, 30, 15, 10]\n",
    "plt.pie(Porcentajes,\n",
    "        labels=labels,\n",
    "        autopct='%1.f%%',\n",
    "        counterclock=False,\n",
    "        startangle=90)\n",
    "plt.show();"
   ]
  },
  {
   "attachments": {},
   "cell_type": "markdown",
   "metadata": {},
   "source": [
    "La función `pyplot.pie()` toma muchos parámetros, muchos de los cuales son opcionales. El único parámetro requerido es el primero que proporciona los valores a ser utilizado para los tamaños de los segmentos. \n",
    "Los siguientes parámetros opcionales en el ejemplo han sido:\n",
    "\n",
    "* El parámetro ``label`` es un opcional y puede tomar una secuencia de strings que se utulizan para las eitquetas de cada de los sectores.\n",
    "* El parámetro ``autopct`` toma string (o funciones) para usar un formato numérico de cada uno de los sectores.\n",
    "* El parámetro ``counterclockwise``. Por defecto los sectores son dibujados en el sentido contratio de las agujas del reloj. Para asegurarnos de que el diseño se parece al tradicional, el parámetro de ``counterclockwise`` se establece en `Falso`\n",
    "* El parámetro ``startangle``. El ángulo inicial también se ha movido 90° utilizando el ángulo de inicio"
   ]
  }
 ],
 "metadata": {
  "kernelspec": {
   "display_name": "base",
   "language": "python",
   "name": "python3"
  },
  "language_info": {
   "codemirror_mode": {
    "name": "ipython",
    "version": 3
   },
   "file_extension": ".py",
   "mimetype": "text/x-python",
   "name": "python",
   "nbconvert_exporter": "python",
   "pygments_lexer": "ipython3",
   "version": "3.9.12"
  },
  "orig_nbformat": 4
 },
 "nbformat": 4,
 "nbformat_minor": 2
}
