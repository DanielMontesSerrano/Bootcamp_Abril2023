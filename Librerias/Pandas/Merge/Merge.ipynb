{
 "cells": [
  {
   "attachments": {},
   "cell_type": "markdown",
   "metadata": {},
   "source": [
    "# Merge\n",
    "En este script se explica de manera breve las diferentes formas de unir dos dataframe.\n",
    "La explicación teoríca se encuentra en el script de [Teoría](https://github.com/DanielMontesSerrano/Bootcamp_Abril2023/blob/master/Librerias/Pandas/Merge/Teoría.md#user-content-fnref-1-9878f3ac164785515e3428b4a0cd78f7)"
   ]
  },
  {
   "cell_type": "code",
   "execution_count": null,
   "metadata": {},
   "outputs": [],
   "source": [
    "### Importamos las librerías\n",
    "import pandas as pd\n",
    "# Creamos los dataframe de los ejemplo\n",
    "Clientes=pd.DataFrame({'Id_Cliente':[1234,2345,3456,4567,5678],\t\n",
    "          'Nombre':\t['Beltrán','Olga','Aurora','Saúl','Ignacio'],\n",
    "          'Apellido':['García','Bermejo','Siller','Almodóvar','Irin']})\n",
    "\n",
    "Ultima_Fecha=pd.DataFrame({'Id_Cliente':[4321,2345,3456,4567,7846],\n",
    "'Fecha':['19-05-2019','25-03-2020','31-07-2020','28-02-2022',\n",
    "'25-03-2023'],\n",
    "'Facturado':['7.532€','2.951€','4.569€','6.523€','9.632€']})"
   ]
  },
  {
   "cell_type": "code",
   "execution_count": null,
   "metadata": {},
   "outputs": [],
   "source": [
    "## Inner Join\n",
    "pd.merge(Clientes,Ultima_Fecha,how='inner',on=\"Id_Cliente\")"
   ]
  },
  {
   "cell_type": "code",
   "execution_count": null,
   "metadata": {},
   "outputs": [],
   "source": [
    "## Left Join\n",
    "pd.merge(Clientes,Ultima_Fecha,how='left',on=\"Id_Cliente\")"
   ]
  },
  {
   "cell_type": "code",
   "execution_count": null,
   "metadata": {},
   "outputs": [],
   "source": [
    "## Right Join\n",
    "pd.merge(Clientes,Ultima_Fecha,how='right',on=\"Id_Cliente\")"
   ]
  },
  {
   "cell_type": "code",
   "execution_count": null,
   "metadata": {},
   "outputs": [],
   "source": [
    "## Outer Join\n",
    "pd.merge(Clientes,Ultima_Fecha,how='outer',on=\"Id_Cliente\")"
   ]
  },
  {
   "cell_type": "code",
   "execution_count": null,
   "metadata": {},
   "outputs": [],
   "source": [
    "## Outer Join\n",
    "### No necesita la Key\n",
    "pd.merge(Clientes,Ultima_Fecha,how='cross')"
   ]
  },
  {
   "cell_type": "code",
   "execution_count": null,
   "metadata": {},
   "outputs": [],
   "source": []
  }
 ],
 "metadata": {
  "kernelspec": {
   "display_name": "base",
   "language": "python",
   "name": "python3"
  },
  "language_info": {
   "codemirror_mode": {
    "name": "ipython",
    "version": 3
   },
   "file_extension": ".py",
   "mimetype": "text/x-python",
   "name": "python",
   "nbconvert_exporter": "python",
   "pygments_lexer": "ipython3",
   "version": "3.9.12"
  },
  "orig_nbformat": 4
 },
 "nbformat": 4,
 "nbformat_minor": 2
}
