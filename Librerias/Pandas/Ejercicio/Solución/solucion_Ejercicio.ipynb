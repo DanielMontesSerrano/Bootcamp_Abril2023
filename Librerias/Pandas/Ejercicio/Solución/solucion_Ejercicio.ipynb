{
 "cells": [
  {
   "attachments": {},
   "cell_type": "markdown",
   "metadata": {},
   "source": [
    "# Ejercicios"
   ]
  },
  {
   "attachments": {},
   "cell_type": "markdown",
   "metadata": {},
   "source": [
    "Los tres dataset que se encuentran la carpeta Dataset nontienen:\n",
    "* **Cast**\n",
    "    * La base de datos de elenco de peliculas, de imdb.\n",
    "* **Titles**\n",
    "    * La base de datos imdb de titulos de peliculas\n",
    "* **Release_dates**\n",
    "    * La base de datos imdb de titulos de peliculas y la fecha del estreno en cada país"
   ]
  },
  {
   "attachments": {},
   "cell_type": "markdown",
   "metadata": {},
   "source": [
    "Primero leere los ficheros cast y lo juntaré en unico ficheros\n",
    "Pasos que voy a seguir:\n",
    "1. Leer un fichero de cast y concatenarlo con el resto\n",
    "2. Guardar esa concatenación en un fichero que se llame *cast*\n",
    "3. Por si vuelvo a ejecutar el fichero para que no se vuelva a realizar el for de las concatenaciones haré un if paa ver si existe dicho fichero de unión y sino que si haga el for\n",
    "    1. Usar la librería os para trabajar con directorios y ficheros\n",
    "    2. Comprobar que existe ese fichero\n",
    "    3. Si existe solamente leerlo\n",
    "    4. Si no existe leer el bucle for y concatenar y lo guarde en una carpeta que se llame unión\n",
    "4. Ese if que he creado lo meteré en una función y que devuelva el dataframe"
   ]
  },
  {
   "cell_type": "code",
   "execution_count": null,
   "metadata": {},
   "outputs": [],
   "source": [
    "import os\n",
    "import pandas as pd"
   ]
  },
  {
   "cell_type": "code",
   "execution_count": null,
   "metadata": {},
   "outputs": [],
   "source": [
    "os.path.exists('../Dataset/cast.csv')\n",
    "os.makedirs('../Dataset/Union')\n",
    "archivos=os.listdir('../Dataset/')\n",
    "df=pd.DataFrame()\n",
    "for archivo in archivos:\n",
    "    if archivo.startswith('cast'):\n",
    "        df_aux=pd.read_csv('../Dataset/'+archivo,sep=\";\",index_col='Unnamed: 0')\n",
    "        df=pd.concat([df,df_aux])       "
   ]
  },
  {
   "cell_type": "code",
   "execution_count": null,
   "metadata": {},
   "outputs": [],
   "source": [
    "os.makedirs('../Dataset/Union')"
   ]
  },
  {
   "cell_type": "code",
   "execution_count": null,
   "metadata": {},
   "outputs": [],
   "source": [
    "df.to_csv('../Dataset/Union/Cast.csv',sep=\";\")"
   ]
  },
  {
   "cell_type": "code",
   "execution_count": null,
   "metadata": {},
   "outputs": [],
   "source": [
    "df_cast=pd.read_csv('../Dataset/Union/Cast.csv',sep=\";\")"
   ]
  },
  {
   "cell_type": "code",
   "execution_count": null,
   "metadata": {},
   "outputs": [],
   "source": [
    "if os.path.exists('../Dataset/Union/Cast.csv'):\n",
    "    print(\"El fichero existe\")\n",
    "    df=pd.read_csv('../Dataset/Union/Cast.csv',sep=\";\")\n",
    "else:\n",
    "    print(\"El fichero no existe\")\n",
    "    os.makedirs('../Dataset/Union')\n",
    "    archivos=os.listdir('../Dataset/')\n",
    "    df=pd.DataFrame()\n",
    "    for archivo in archivos:\n",
    "        if archivo.startswith('cast'):\n",
    "            df_aux=pd.read_csv('../Dataset/'+archivo,sep=\";\",index_col='Unnamed: 0')\n",
    "            df=pd.concat([df,df_aux]) "
   ]
  },
  {
   "cell_type": "code",
   "execution_count": null,
   "metadata": {},
   "outputs": [],
   "source": [
    "ruta='../Dataset'\n",
    "def Lectura_datos(path,nombre):\n",
    "    ruta_union=path+'/Union/'\n",
    "    if os.path.exists(ruta_union+nombre+'.csv'):\n",
    "        print(\"El fichero existe\")\n",
    "        df=pd.read_csv(ruta_union+nombre+'.csv',sep=\";\")\n",
    "    else:\n",
    "        print(\"El fichero no existe\")\n",
    "        os.makedirs(ruta_union)\n",
    "        archivos=os.listdir(path+'/')\n",
    "        df=pd.DataFrame()\n",
    "        for archivo in archivos:\n",
    "            if archivo.startswith(nombre):\n",
    "                df_aux=pd.read_csv(path+'/'+archivo,sep=\";\")\n",
    "                df=pd.concat([df,df_aux])\n",
    "        df.to_csv(ruta_union+nombre+'.csv',sep=\";\")\n",
    "    return df.reset_index(drop=True)"
   ]
  },
  {
   "cell_type": "code",
   "execution_count": null,
   "metadata": {},
   "outputs": [],
   "source": [
    "aa=Lectura_datos(ruta,'cast')"
   ]
  },
  {
   "cell_type": "code",
   "execution_count": null,
   "metadata": {},
   "outputs": [],
   "source": [
    "Lectura_datos(ruta,'cast')"
   ]
  },
  {
   "attachments": {},
   "cell_type": "markdown",
   "metadata": {},
   "source": [
    "## Ejemplo\n",
    "Api de jornadas de registro de trabajadores\n",
    "1. Leer el último fichero\n",
    "2. Leer mi \"historico\"\n",
    "3. Coincidencia de fechas\n",
    "    1. Si ambas fechas coinciden solo devoler histórico\n",
    "    2. Si no coinciden concatearmos histórico con el último fichero"
   ]
  },
  {
   "attachments": {},
   "cell_type": "markdown",
   "metadata": {},
   "source": [
    "## Ejercicio 1\n",
    "Del fichero **cast.csv** del la carpeta Dataset realice:\n",
    "\n",
    "* ¿Cuántas peliculas estan listadas por el nombre ``Dracula`` ?\n",
    "* Titulos mas comunes en la historia filmografica.\n",
    "* ¿Cuál fue la primer pelicula hecha titulada ``Romeo and Juliet`` ?\n",
    "* Listar todas las peliculas que contengan la palabra ``Exorcist`` ordenadas de la más antigua a la más reciente.\n",
    "* ¿Cuántas peliculas fueron hechas en el año 1950?\n",
    "* ¿Cuántas peliculas fueron hechas en el año 1970?\n",
    "* ¿Cuántas peliculas fueron hechas de 1950 a 1959.\n",
    "* ¿En qué años alguna pelicula llamada ``Batman`` se estrenó?\n",
    "* ¿Cuántos roles o papeles hubo en la pelicula ``The Godfather``?\n",
    "* ¿Cuántos papeles en la pelicula ``The Godfather`` no estan clasificados en algun valor ``n``?\n",
    "* ¿Cuántos papeles en la pelicula ``The Godfather`` si estuvieron clasificados con un valor ``n``?\n",
    "* Mostrar el elenco completo de la pelicula ``2001: A Space Odyssey``  ordenado por su clasificasión ``n``, ignorando los papeles que no se les asigno ningun valor ``n``.\n",
    "* Mostrar el elenco completo ordenado por la clasificacion ``n`` de la pelicula ``Dracula`` de 1958\n",
    "* ¿Cuantos papeles fueron listados en la pelicula ``The Wizard of Oz`` de 1939?\n",
    "* ¿Cuántos papeles de ``Bruce Wayne`` han sido hechos en la historia de las peliculas?\n",
    "* ¿Cuánta gente ah hecho el papel de ``Romeo``?\n",
    "* ¿Cuántos papeles ah hecho ``Robert De Niro`` en su carrera?\n",
    "* Listado de papeles de soporte que tuvo el actor ``Charlton Heston`` en la decada de los 50's, ordenado por año.\n",
    "* Listado de papeles como protagonista que tuvo el actor ``Charlton Heston`` en la decada de los 60's, ordenado por año de forma descendente.\n",
    "* ¿Cuántos papeles para actores hubo en la decada de los 50's?\n",
    "* ¿Cuántos papeles para actrices hubo en la decada de los 50's ?\n",
    "* ¿Cuantos papeles protagonicos existen desde el principio de la historia filmatografica hasta 1970 ?\n",
    "\n",
    "## Ejercicio 2\n",
    "* Graficar la diferencia entre el numero de papeles  para actores cada año y el numero de papeles para actrices cada año en la historia de la filmografia.\n",
    "* Graficar en numero de papeles de actores cada año y el numero de papeles para actrices cada año.\n",
    "* El mismo grafico anterior pero categorizado por decada y con un grafico de area.\n",
    "* Graficar el porcentaje de papeles que han sido actores cada año en la historia de la filmografia\n",
    "* Graficar el porcentaje de papeles que han sido  actores cada año en la historia de la filmografia junto al mismo porcentaje pero de actrices\n",
    "* Graficar 3 lines con clasificacion \"n\" de 1 al 3 donde cada  linea represente el porcentaje de la clasificacion para  los papeles de actores en cada año.\n",
    "* Encontrar las 5 peliculas de la historia tengan más actrices que actores\n",
    "\n",
    "\n",
    "## Ejericicio 3\n",
    "* En que fechas fue lanzada cada pelicula de ``Salma Hayek`` desde  1990 al presente en Mexico\n",
    "* En que dia de la semana se han lanzado en USA las peliculas de donde aparece ``Tom Cuise``. Incluir un grafico \n",
    "* ¿Que peliculas han sido lanzadas en la mayor cantidad de paises?, incluir en un grafico las 5 mayores.\n",
    "* ¿Quien tiende a ser el actor si clasificado (n > 1) que mas a  participado en peliculas donde el protagonista es ``Leonardo DiCaprio``? "
   ]
  }
 ],
 "metadata": {
  "kernelspec": {
   "display_name": "base",
   "language": "python",
   "name": "python3"
  },
  "language_info": {
   "codemirror_mode": {
    "name": "ipython",
    "version": 3
   },
   "file_extension": ".py",
   "mimetype": "text/x-python",
   "name": "python",
   "nbconvert_exporter": "python",
   "pygments_lexer": "ipython3",
   "version": "3.9.12"
  },
  "orig_nbformat": 4
 },
 "nbformat": 4,
 "nbformat_minor": 2
}
